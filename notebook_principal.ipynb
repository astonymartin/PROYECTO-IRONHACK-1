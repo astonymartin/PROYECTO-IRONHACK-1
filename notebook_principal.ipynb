{
 "cells": [
  {
   "cell_type": "markdown",
   "id": "18b0d53b",
   "metadata": {},
   "source": [
    "Meteorite_Landings_20240206.csv"
   ]
  },
  {
   "cell_type": "markdown",
   "id": "e65b3691",
   "metadata": {},
   "source": []
  },
  {
   "cell_type": "code",
   "execution_count": 1,
   "id": "f3af87b7",
   "metadata": {},
   "outputs": [],
   "source": [
    "from bs4 import BeautifulSoup                      ###libreria para web scraping\n",
    "import pandas as pd                                ###libreria para manipular data\n",
    "import requests                                    ###libreria para solicitar informcaion\n",
    "import folium                                      ###libreria para situar puntos en mapa\n",
    "import geonamescache\n",
    "import reverse_geocode\n",
    "from shapely.geometry import Point\n",
    "from shapely.geometry.polygon import Polygon\n",
    "import matplotlib.pyplot as plt\n",
    "import seaborn as sns\n",
    "import plotly.graph_objects as go\n"
   ]
  },
  {
   "cell_type": "code",
   "execution_count": 2,
   "id": "93cca8e0",
   "metadata": {},
   "outputs": [],
   "source": [
    "df = pd.read_csv(\"Meteorite_Landings_20240206.csv\")\n",
    "df\n",
    "dfcopy = df.copy()"
   ]
  },
  {
   "cell_type": "code",
   "execution_count": null,
   "id": "f78c09e1",
   "metadata": {},
   "outputs": [],
   "source": []
  },
  {
   "cell_type": "code",
   "execution_count": 3,
   "id": "43b706a4",
   "metadata": {},
   "outputs": [
    {
     "data": {
      "text/html": [
       "<div>\n",
       "<style scoped>\n",
       "    .dataframe tbody tr th:only-of-type {\n",
       "        vertical-align: middle;\n",
       "    }\n",
       "\n",
       "    .dataframe tbody tr th {\n",
       "        vertical-align: top;\n",
       "    }\n",
       "\n",
       "    .dataframe thead th {\n",
       "        text-align: right;\n",
       "    }\n",
       "</style>\n",
       "<table border=\"1\" class=\"dataframe\">\n",
       "  <thead>\n",
       "    <tr style=\"text-align: right;\">\n",
       "      <th></th>\n",
       "      <th>name</th>\n",
       "      <th>id</th>\n",
       "      <th>nametype</th>\n",
       "      <th>recclass</th>\n",
       "      <th>mass (g)</th>\n",
       "      <th>fall</th>\n",
       "      <th>year</th>\n",
       "      <th>reclat</th>\n",
       "      <th>reclong</th>\n",
       "      <th>GeoLocation</th>\n",
       "    </tr>\n",
       "  </thead>\n",
       "  <tbody>\n",
       "    <tr>\n",
       "      <th>0</th>\n",
       "      <td>Aachen</td>\n",
       "      <td>1</td>\n",
       "      <td>Valid</td>\n",
       "      <td>L5</td>\n",
       "      <td>21.0</td>\n",
       "      <td>Fell</td>\n",
       "      <td>1880.0</td>\n",
       "      <td>50.77500</td>\n",
       "      <td>6.08333</td>\n",
       "      <td>(50.775, 6.08333)</td>\n",
       "    </tr>\n",
       "    <tr>\n",
       "      <th>1</th>\n",
       "      <td>Aarhus</td>\n",
       "      <td>2</td>\n",
       "      <td>Valid</td>\n",
       "      <td>H6</td>\n",
       "      <td>720.0</td>\n",
       "      <td>Fell</td>\n",
       "      <td>1951.0</td>\n",
       "      <td>56.18333</td>\n",
       "      <td>10.23333</td>\n",
       "      <td>(56.18333, 10.23333)</td>\n",
       "    </tr>\n",
       "    <tr>\n",
       "      <th>2</th>\n",
       "      <td>Abee</td>\n",
       "      <td>6</td>\n",
       "      <td>Valid</td>\n",
       "      <td>EH4</td>\n",
       "      <td>107000.0</td>\n",
       "      <td>Fell</td>\n",
       "      <td>1952.0</td>\n",
       "      <td>54.21667</td>\n",
       "      <td>-113.00000</td>\n",
       "      <td>(54.21667, -113.0)</td>\n",
       "    </tr>\n",
       "    <tr>\n",
       "      <th>3</th>\n",
       "      <td>Acapulco</td>\n",
       "      <td>10</td>\n",
       "      <td>Valid</td>\n",
       "      <td>Acapulcoite</td>\n",
       "      <td>1914.0</td>\n",
       "      <td>Fell</td>\n",
       "      <td>1976.0</td>\n",
       "      <td>16.88333</td>\n",
       "      <td>-99.90000</td>\n",
       "      <td>(16.88333, -99.9)</td>\n",
       "    </tr>\n",
       "    <tr>\n",
       "      <th>4</th>\n",
       "      <td>Achiras</td>\n",
       "      <td>370</td>\n",
       "      <td>Valid</td>\n",
       "      <td>L6</td>\n",
       "      <td>780.0</td>\n",
       "      <td>Fell</td>\n",
       "      <td>1902.0</td>\n",
       "      <td>-33.16667</td>\n",
       "      <td>-64.95000</td>\n",
       "      <td>(-33.16667, -64.95)</td>\n",
       "    </tr>\n",
       "    <tr>\n",
       "      <th>...</th>\n",
       "      <td>...</td>\n",
       "      <td>...</td>\n",
       "      <td>...</td>\n",
       "      <td>...</td>\n",
       "      <td>...</td>\n",
       "      <td>...</td>\n",
       "      <td>...</td>\n",
       "      <td>...</td>\n",
       "      <td>...</td>\n",
       "      <td>...</td>\n",
       "    </tr>\n",
       "    <tr>\n",
       "      <th>45711</th>\n",
       "      <td>Zillah 002</td>\n",
       "      <td>31356</td>\n",
       "      <td>Valid</td>\n",
       "      <td>Eucrite</td>\n",
       "      <td>172.0</td>\n",
       "      <td>Found</td>\n",
       "      <td>1990.0</td>\n",
       "      <td>29.03700</td>\n",
       "      <td>17.01850</td>\n",
       "      <td>(29.037, 17.0185)</td>\n",
       "    </tr>\n",
       "    <tr>\n",
       "      <th>45712</th>\n",
       "      <td>Zinder</td>\n",
       "      <td>30409</td>\n",
       "      <td>Valid</td>\n",
       "      <td>Pallasite, ungrouped</td>\n",
       "      <td>46.0</td>\n",
       "      <td>Found</td>\n",
       "      <td>1999.0</td>\n",
       "      <td>13.78333</td>\n",
       "      <td>8.96667</td>\n",
       "      <td>(13.78333, 8.96667)</td>\n",
       "    </tr>\n",
       "    <tr>\n",
       "      <th>45713</th>\n",
       "      <td>Zlin</td>\n",
       "      <td>30410</td>\n",
       "      <td>Valid</td>\n",
       "      <td>H4</td>\n",
       "      <td>3.3</td>\n",
       "      <td>Found</td>\n",
       "      <td>1939.0</td>\n",
       "      <td>49.25000</td>\n",
       "      <td>17.66667</td>\n",
       "      <td>(49.25, 17.66667)</td>\n",
       "    </tr>\n",
       "    <tr>\n",
       "      <th>45714</th>\n",
       "      <td>Zubkovsky</td>\n",
       "      <td>31357</td>\n",
       "      <td>Valid</td>\n",
       "      <td>L6</td>\n",
       "      <td>2167.0</td>\n",
       "      <td>Found</td>\n",
       "      <td>2003.0</td>\n",
       "      <td>49.78917</td>\n",
       "      <td>41.50460</td>\n",
       "      <td>(49.78917, 41.5046)</td>\n",
       "    </tr>\n",
       "    <tr>\n",
       "      <th>45715</th>\n",
       "      <td>Zulu Queen</td>\n",
       "      <td>30414</td>\n",
       "      <td>Valid</td>\n",
       "      <td>L3.7</td>\n",
       "      <td>200.0</td>\n",
       "      <td>Found</td>\n",
       "      <td>1976.0</td>\n",
       "      <td>33.98333</td>\n",
       "      <td>-115.68333</td>\n",
       "      <td>(33.98333, -115.68333)</td>\n",
       "    </tr>\n",
       "  </tbody>\n",
       "</table>\n",
       "<p>45716 rows × 10 columns</p>\n",
       "</div>"
      ],
      "text/plain": [
       "             name     id nametype              recclass  mass (g)   fall  \\\n",
       "0          Aachen      1    Valid                    L5      21.0   Fell   \n",
       "1          Aarhus      2    Valid                    H6     720.0   Fell   \n",
       "2            Abee      6    Valid                   EH4  107000.0   Fell   \n",
       "3        Acapulco     10    Valid           Acapulcoite    1914.0   Fell   \n",
       "4         Achiras    370    Valid                    L6     780.0   Fell   \n",
       "...           ...    ...      ...                   ...       ...    ...   \n",
       "45711  Zillah 002  31356    Valid               Eucrite     172.0  Found   \n",
       "45712      Zinder  30409    Valid  Pallasite, ungrouped      46.0  Found   \n",
       "45713        Zlin  30410    Valid                    H4       3.3  Found   \n",
       "45714   Zubkovsky  31357    Valid                    L6    2167.0  Found   \n",
       "45715  Zulu Queen  30414    Valid                  L3.7     200.0  Found   \n",
       "\n",
       "         year    reclat    reclong             GeoLocation  \n",
       "0      1880.0  50.77500    6.08333       (50.775, 6.08333)  \n",
       "1      1951.0  56.18333   10.23333    (56.18333, 10.23333)  \n",
       "2      1952.0  54.21667 -113.00000      (54.21667, -113.0)  \n",
       "3      1976.0  16.88333  -99.90000       (16.88333, -99.9)  \n",
       "4      1902.0 -33.16667  -64.95000     (-33.16667, -64.95)  \n",
       "...       ...       ...        ...                     ...  \n",
       "45711  1990.0  29.03700   17.01850       (29.037, 17.0185)  \n",
       "45712  1999.0  13.78333    8.96667     (13.78333, 8.96667)  \n",
       "45713  1939.0  49.25000   17.66667       (49.25, 17.66667)  \n",
       "45714  2003.0  49.78917   41.50460     (49.78917, 41.5046)  \n",
       "45715  1976.0  33.98333 -115.68333  (33.98333, -115.68333)  \n",
       "\n",
       "[45716 rows x 10 columns]"
      ]
     },
     "execution_count": 3,
     "metadata": {},
     "output_type": "execute_result"
    }
   ],
   "source": [
    "dfcopy"
   ]
  },
  {
   "cell_type": "code",
   "execution_count": 4,
   "id": "bf62995e",
   "metadata": {
    "scrolled": true
   },
   "outputs": [
    {
     "data": {
      "text/plain": [
       "Index(['name', 'id', 'nametype', 'recclass', 'mass (g)', 'fall', 'year',\n",
       "       'reclat', 'reclong', 'GeoLocation'],\n",
       "      dtype='object')"
      ]
     },
     "execution_count": 4,
     "metadata": {},
     "output_type": "execute_result"
    }
   ],
   "source": [
    "dfcopy.columns"
   ]
  },
  {
   "cell_type": "code",
   "execution_count": 5,
   "id": "18075953",
   "metadata": {},
   "outputs": [
    {
     "data": {
      "text/plain": [
       "array(['Valid', 'Relict'], dtype=object)"
      ]
     },
     "execution_count": 5,
     "metadata": {},
     "output_type": "execute_result"
    }
   ],
   "source": [
    "dfcopy[\"nametype\"].unique()"
   ]
  },
  {
   "cell_type": "code",
   "execution_count": 6,
   "id": "9d664cd7",
   "metadata": {},
   "outputs": [],
   "source": [
    "nuevos_nombres = {'name': \"nombre\", 'id': \"id\", \"nametype\": 'tipo_nombre', \"recclass\": 'clase_meteorito', \"mass (g)\":'masa_gramos', \"fall\": 'encontrado', 'year': \"año\",\n",
    "      \"reclat\": 'latitud', \"reclong\": 'longitud', \"GeoLocation\": 'localizacion'}\n",
    "dfcopy = dfcopy.rename(columns=nuevos_nombres)"
   ]
  },
  {
   "cell_type": "code",
   "execution_count": 7,
   "id": "61b214c5",
   "metadata": {},
   "outputs": [],
   "source": [
    "dfcopy[\"latitud\"].fillna(0, inplace=True)\n",
    "dfcopy[\"longitud\"].fillna(0, inplace=True)"
   ]
  },
  {
   "cell_type": "code",
   "execution_count": 8,
   "id": "cb796ac3",
   "metadata": {},
   "outputs": [],
   "source": [
    "dfcopy[\"año\"].fillna(0, inplace=True)"
   ]
  },
  {
   "cell_type": "code",
   "execution_count": 9,
   "id": "d701a2ec",
   "metadata": {
    "scrolled": false
   },
   "outputs": [
    {
     "name": "stdout",
     "output_type": "stream",
     "text": [
      "<class 'pandas.core.frame.DataFrame'>\n",
      "RangeIndex: 45716 entries, 0 to 45715\n",
      "Data columns (total 10 columns):\n",
      " #   Column           Non-Null Count  Dtype  \n",
      "---  ------           --------------  -----  \n",
      " 0   nombre           45716 non-null  object \n",
      " 1   id               45716 non-null  int64  \n",
      " 2   tipo_nombre      45716 non-null  object \n",
      " 3   clase_meteorito  45716 non-null  object \n",
      " 4   masa_gramos      45585 non-null  float64\n",
      " 5   encontrado       45716 non-null  object \n",
      " 6   año              45716 non-null  float64\n",
      " 7   latitud          45716 non-null  float64\n",
      " 8   longitud         45716 non-null  float64\n",
      " 9   localizacion     38401 non-null  object \n",
      "dtypes: float64(4), int64(1), object(5)\n",
      "memory usage: 3.5+ MB\n"
     ]
    }
   ],
   "source": [
    "dfcopy.info()"
   ]
  },
  {
   "cell_type": "code",
   "execution_count": 10,
   "id": "ec192a1f",
   "metadata": {},
   "outputs": [],
   "source": [
    "dfcopy.to_csv('dfcopy.csv', index=False)\n"
   ]
  },
  {
   "cell_type": "code",
   "execution_count": 11,
   "id": "52c1548b",
   "metadata": {},
   "outputs": [],
   "source": [
    "dfcopy[\"masa_gramos\"].fillna(0, inplace=True)"
   ]
  },
  {
   "cell_type": "code",
   "execution_count": 12,
   "id": "2978b028",
   "metadata": {},
   "outputs": [],
   "source": [
    "peso_colores = []\n",
    "for index in dfcopy[\"masa_gramos\"]:\n",
    "    if index <= 200:\n",
    "        peso_colores.append(\"green\")\n",
    "    elif 200 < index <750:\n",
    "        peso_colores.append(\"yellow\")\n",
    "    elif 750 <= index < 1250:\n",
    "        peso_colores.append(\"orange\")\n",
    "    elif 1250 <= index:\n",
    "        peso_colores.append(\"red\")\n",
    "dfcopy['peso_colores'] = peso_colores\n"
   ]
  },
  {
   "cell_type": "markdown",
   "id": "d47ed9b0",
   "metadata": {},
   "source": [
    "# GRAFICA 1"
   ]
  },
  {
   "cell_type": "code",
   "execution_count": 13,
   "id": "c3059cb3",
   "metadata": {},
   "outputs": [],
   "source": [
    "df_filtered = dfcopy[(dfcopy['latitud'] != 0) & (dfcopy['longitud'] != 0)]\n",
    "fig = go.Figure()\n",
    "fig.add_trace(go.Scattergeo(\n",
    "    lon = df_filtered['longitud'],\n",
    "    lat = df_filtered['latitud'],\n",
    "    mode = 'markers',\n",
    "    marker = dict(\n",
    "        size = 5,\n",
    "        color = 'blue',\n",
    "        opacity = 0.5)))\n",
    "fig.update_geos(\n",
    "    projection_type=\"natural earth\",\n",
    "    showland=True, landcolor=\"lightgray\",\n",
    "    showocean=True, oceancolor=\"lightblue\",\n",
    "    showcountries=True,\n",
    "    showlakes=True, lakecolor=\"lightblue\",\n",
    "    showrivers=True, rivercolor=\"lightblue\")\n",
    "fig.write_html(\"mapa_plotly.html\")\n"
   ]
  },
  {
   "cell_type": "markdown",
   "id": "ebc431d7",
   "metadata": {},
   "source": [
    "# GRAFICA 2"
   ]
  },
  {
   "cell_type": "code",
   "execution_count": 14,
   "id": "37e6a2d6",
   "metadata": {},
   "outputs": [],
   "source": [
    "df_filtered = dfcopy[(dfcopy['latitud'] != 0) & (dfcopy['longitud'] != 0)]\n",
    "fig = go.Figure()\n",
    "fig.add_trace(go.Scattergeo(\n",
    "    lon = df_filtered['longitud'],\n",
    "    lat = df_filtered['latitud'],\n",
    "    mode = 'markers',\n",
    "    marker = dict(\n",
    "        size = 5,\n",
    "        color = df_filtered[\"peso_colores\"],\n",
    "        opacity = 0.5)))\n",
    "fig.update_geos(\n",
    "    projection_type=\"natural earth\",\n",
    "    showland=True, landcolor=\"lightgray\",\n",
    "    showocean=True, oceancolor=\"lightblue\",\n",
    "    showcountries=True,\n",
    "    showlakes=True, lakecolor=\"lightblue\",\n",
    "    showrivers=True, rivercolor=\"lightblue\")\n",
    "fig.write_html(\"mapa_plotly_peso_colores.html\")"
   ]
  },
  {
   "cell_type": "markdown",
   "id": "6a43b2af",
   "metadata": {},
   "source": [
    "# GRAFICO 3"
   ]
  },
  {
   "cell_type": "code",
   "execution_count": 15,
   "id": "7d5b40f7",
   "metadata": {},
   "outputs": [
    {
     "name": "stdout",
     "output_type": "stream",
     "text": [
      "              count\n",
      "peso_colores       \n",
      "green         34261\n",
      "yellow         5766\n",
      "red            4283\n",
      "orange         1406\n"
     ]
    },
    {
     "data": {
      "text/html": [
       "<div>\n",
       "<style scoped>\n",
       "    .dataframe tbody tr th:only-of-type {\n",
       "        vertical-align: middle;\n",
       "    }\n",
       "\n",
       "    .dataframe tbody tr th {\n",
       "        vertical-align: top;\n",
       "    }\n",
       "\n",
       "    .dataframe thead th {\n",
       "        text-align: right;\n",
       "    }\n",
       "</style>\n",
       "<table border=\"1\" class=\"dataframe\">\n",
       "  <thead>\n",
       "    <tr style=\"text-align: right;\">\n",
       "      <th></th>\n",
       "      <th>porcentaje</th>\n",
       "    </tr>\n",
       "    <tr>\n",
       "      <th>peso_colores</th>\n",
       "      <th></th>\n",
       "    </tr>\n",
       "  </thead>\n",
       "  <tbody>\n",
       "    <tr>\n",
       "      <th>green</th>\n",
       "      <td>74.943127</td>\n",
       "    </tr>\n",
       "    <tr>\n",
       "      <th>yellow</th>\n",
       "      <td>12.612652</td>\n",
       "    </tr>\n",
       "    <tr>\n",
       "      <th>red</th>\n",
       "      <td>9.368711</td>\n",
       "    </tr>\n",
       "    <tr>\n",
       "      <th>orange</th>\n",
       "      <td>3.075510</td>\n",
       "    </tr>\n",
       "  </tbody>\n",
       "</table>\n",
       "</div>"
      ],
      "text/plain": [
       "              porcentaje\n",
       "peso_colores            \n",
       "green          74.943127\n",
       "yellow         12.612652\n",
       "red             9.368711\n",
       "orange          3.075510"
      ]
     },
     "execution_count": 15,
     "metadata": {},
     "output_type": "execute_result"
    }
   ],
   "source": [
    "df_grafica_3 = dfcopy[\"peso_colores\"].value_counts()\n",
    "df_grafica_3 = pd.DataFrame(df_grafica_3)\n",
    "print(df_grafica_3)\n",
    "df_grafica_3[\"count\"] = df_grafica_3[\"count\"] / df_grafica_3[\"count\"].sum() * 100\n",
    "df_grafica_3.rename(columns={\"count\": \"porcentaje\"}, inplace=True)\n",
    "\n",
    "df_grafica_3"
   ]
  },
  {
   "cell_type": "code",
   "execution_count": 16,
   "id": "c5618ae4",
   "metadata": {},
   "outputs": [
    {
     "data": {
      "image/png": "[encoded data removed]",
      "text/plain": [
       "<Figure size 800x600 with 1 Axes>"
      ]
     },
     "metadata": {},
     "output_type": "display_data"
    }
   ],
   "source": [
    "porcentajes = [74.943127, 12.612652, 9.368711, 3.075510]\n",
    "colores = ['green', 'yellow', 'red', 'orange']\n",
    "etiquetas = ['menos 250', '250 a 750', 'más 1250', '750 a 1250']\n",
    "explode = (0.3, 0.2, 0.1, 0)\n",
    "plt.figure(figsize=(8, 6))\n",
    "plt.pie(porcentajes, colors=colores, explode=explode, labels=etiquetas, autopct='%1.1f%%', startangle=140, \n",
    "        wedgeprops={'edgecolor': 'black'})\n",
    "\n",
    "plt.title('Porcentaje de peso (gramos)')\n",
    "plt.gca().set_facecolor('#d3d3d3')\n",
    "plt.axis('equal')\n",
    "plt.show()\n"
   ]
  },
  {
   "cell_type": "markdown",
   "id": "8ec8c447",
   "metadata": {},
   "source": [
    "# GRAFICO 4"
   ]
  },
  {
   "cell_type": "code",
   "execution_count": 17,
   "id": "0a4183cf",
   "metadata": {},
   "outputs": [],
   "source": [
    "dfcopy[\"año\"] = dfcopy[\"año\"].replace(2101.0, 2001)"
   ]
  },
  {
   "cell_type": "code",
   "execution_count": 18,
   "id": "1b756eac",
   "metadata": {},
   "outputs": [
    {
     "data": {
      "text/plain": [
       "año\n",
       "2003.0    3323\n",
       "1979.0    3046\n",
       "1998.0    2697\n",
       "2006.0    2456\n",
       "1988.0    2296\n",
       "          ... \n",
       "1519.0       1\n",
       "1671.0       1\n",
       "1833.0       1\n",
       "1779.0       1\n",
       "1792.0       1\n",
       "Name: count, Length: 265, dtype: int64"
      ]
     },
     "execution_count": 18,
     "metadata": {},
     "output_type": "execute_result"
    }
   ],
   "source": [
    "dfcopy[\"año\"].value_counts()"
   ]
  },
  {
   "cell_type": "code",
   "execution_count": 19,
   "id": "575d532b",
   "metadata": {},
   "outputs": [],
   "source": [
    "grupo_años = []\n",
    "for index in dfcopy[\"año\"]:\n",
    "    if 2002 <= index:\n",
    "        grupo_años.append(\"2002-12\")\n",
    "    elif 1992 <= index < 2002:\n",
    "        grupo_años.append(\"1992-02\")\n",
    "    elif 1982 <= index < 1992:\n",
    "        grupo_años.append(\"1982-92\")\n",
    "    elif 1972 <= index < 1982:\n",
    "        grupo_años.append(\"1972-82\")\n",
    "    elif 1962 <= index < 1972:\n",
    "        grupo_años.append(\"1962-72\")\n",
    "    elif 1952 <= index < 1962:\n",
    "        grupo_años.append(\"1952-62\")\n",
    "    elif 1942 <= index < 1952:\n",
    "        grupo_años.append(\"1942-52\")\n",
    "    elif 1932 <= index < 1942:\n",
    "        grupo_años.append(\"1932-42\")\n",
    "    elif 1922 <= index < 1932:\n",
    "        grupo_años.append(\"1922-32\")\n",
    "    elif 1912 <= index < 1922:\n",
    "        grupo_años.append(\"1912-22\")\n",
    "    elif 1902 <= index < 1912:\n",
    "        grupo_años.append(\"1902-12\")\n",
    "    elif index < 1902:\n",
    "        grupo_años.append(\"1902 antes\")\n",
    "    \n",
    "dfcopy['grupo_años'] = grupo_años"
   ]
  },
  {
   "cell_type": "code",
   "execution_count": 20,
   "id": "1cac8ab4",
   "metadata": {},
   "outputs": [
    {
     "name": "stdout",
     "output_type": "stream",
     "text": [
      "<class 'pandas.core.frame.DataFrame'>\n",
      "RangeIndex: 45716 entries, 0 to 45715\n",
      "Data columns (total 12 columns):\n",
      " #   Column           Non-Null Count  Dtype  \n",
      "---  ------           --------------  -----  \n",
      " 0   nombre           45716 non-null  object \n",
      " 1   id               45716 non-null  int64  \n",
      " 2   tipo_nombre      45716 non-null  object \n",
      " 3   clase_meteorito  45716 non-null  object \n",
      " 4   masa_gramos      45716 non-null  float64\n",
      " 5   encontrado       45716 non-null  object \n",
      " 6   año              45716 non-null  float64\n",
      " 7   latitud          45716 non-null  float64\n",
      " 8   longitud         45716 non-null  float64\n",
      " 9   localizacion     38401 non-null  object \n",
      " 10  peso_colores     45716 non-null  object \n",
      " 11  grupo_años       45716 non-null  object \n",
      "dtypes: float64(4), int64(1), object(7)\n",
      "memory usage: 4.2+ MB\n"
     ]
    }
   ],
   "source": [
    "dfcopy.info()\n",
    "dfcopy.to_csv(\"dfcopy.csv\")"
   ]
  },
  {
   "cell_type": "code",
   "execution_count": 21,
   "id": "3353074b",
   "metadata": {},
   "outputs": [
    {
     "data": {
      "text/html": [
       "<div>\n",
       "<style scoped>\n",
       "    .dataframe tbody tr th:only-of-type {\n",
       "        vertical-align: middle;\n",
       "    }\n",
       "\n",
       "    .dataframe tbody tr th {\n",
       "        vertical-align: top;\n",
       "    }\n",
       "\n",
       "    .dataframe thead th {\n",
       "        text-align: right;\n",
       "    }\n",
       "</style>\n",
       "<table border=\"1\" class=\"dataframe\">\n",
       "  <thead>\n",
       "    <tr style=\"text-align: right;\">\n",
       "      <th></th>\n",
       "      <th>count</th>\n",
       "    </tr>\n",
       "    <tr>\n",
       "      <th>grupo_años</th>\n",
       "      <th></th>\n",
       "    </tr>\n",
       "  </thead>\n",
       "  <tbody>\n",
       "    <tr>\n",
       "      <th>2002-12</th>\n",
       "      <td>16278</td>\n",
       "    </tr>\n",
       "    <tr>\n",
       "      <th>1992-02</th>\n",
       "      <td>12667</td>\n",
       "    </tr>\n",
       "    <tr>\n",
       "      <th>1982-92</th>\n",
       "      <td>8602</td>\n",
       "    </tr>\n",
       "    <tr>\n",
       "      <th>1972-82</th>\n",
       "      <td>5487</td>\n",
       "    </tr>\n",
       "    <tr>\n",
       "      <th>1902 antes</th>\n",
       "      <td>1046</td>\n",
       "    </tr>\n",
       "    <tr>\n",
       "      <th>1962-72</th>\n",
       "      <td>437</td>\n",
       "    </tr>\n",
       "    <tr>\n",
       "      <th>1932-42</th>\n",
       "      <td>327</td>\n",
       "    </tr>\n",
       "    <tr>\n",
       "      <th>1952-62</th>\n",
       "      <td>209</td>\n",
       "    </tr>\n",
       "    <tr>\n",
       "      <th>1942-52</th>\n",
       "      <td>196</td>\n",
       "    </tr>\n",
       "    <tr>\n",
       "      <th>1922-32</th>\n",
       "      <td>169</td>\n",
       "    </tr>\n",
       "    <tr>\n",
       "      <th>1912-22</th>\n",
       "      <td>154</td>\n",
       "    </tr>\n",
       "    <tr>\n",
       "      <th>1902-12</th>\n",
       "      <td>144</td>\n",
       "    </tr>\n",
       "  </tbody>\n",
       "</table>\n",
       "</div>"
      ],
      "text/plain": [
       "            count\n",
       "grupo_años       \n",
       "2002-12     16278\n",
       "1992-02     12667\n",
       "1982-92      8602\n",
       "1972-82      5487\n",
       "1902 antes   1046\n",
       "1962-72       437\n",
       "1932-42       327\n",
       "1952-62       209\n",
       "1942-52       196\n",
       "1922-32       169\n",
       "1912-22       154\n",
       "1902-12       144"
      ]
     },
     "execution_count": 21,
     "metadata": {},
     "output_type": "execute_result"
    }
   ],
   "source": [
    "df_grafica_4_valores = dfcopy[\"grupo_años\"].value_counts()\n",
    "df_grafica_4_valores = pd.DataFrame(df_grafica_4_valores)\n",
    "df_grafica_4_valores.sort_index()\n",
    "df_grafica_4_valores"
   ]
  },
  {
   "cell_type": "code",
   "execution_count": 22,
   "id": "8f08354a",
   "metadata": {
    "scrolled": false
   },
   "outputs": [
    {
     "data": {
      "text/html": [
       "<div>\n",
       "<style scoped>\n",
       "    .dataframe tbody tr th:only-of-type {\n",
       "        vertical-align: middle;\n",
       "    }\n",
       "\n",
       "    .dataframe tbody tr th {\n",
       "        vertical-align: top;\n",
       "    }\n",
       "\n",
       "    .dataframe thead th {\n",
       "        text-align: right;\n",
       "    }\n",
       "</style>\n",
       "<table border=\"1\" class=\"dataframe\">\n",
       "  <thead>\n",
       "    <tr style=\"text-align: right;\">\n",
       "      <th></th>\n",
       "      <th>porcentaje</th>\n",
       "    </tr>\n",
       "    <tr>\n",
       "      <th>grupo_años</th>\n",
       "      <th></th>\n",
       "    </tr>\n",
       "  </thead>\n",
       "  <tbody>\n",
       "    <tr>\n",
       "      <th>2002-12</th>\n",
       "      <td>35.606790</td>\n",
       "    </tr>\n",
       "    <tr>\n",
       "      <th>1992-02</th>\n",
       "      <td>27.708023</td>\n",
       "    </tr>\n",
       "    <tr>\n",
       "      <th>1982-92</th>\n",
       "      <td>18.816169</td>\n",
       "    </tr>\n",
       "    <tr>\n",
       "      <th>1972-82</th>\n",
       "      <td>12.002362</td>\n",
       "    </tr>\n",
       "    <tr>\n",
       "      <th>1902 antes</th>\n",
       "      <td>2.288039</td>\n",
       "    </tr>\n",
       "    <tr>\n",
       "      <th>1962-72</th>\n",
       "      <td>0.955902</td>\n",
       "    </tr>\n",
       "    <tr>\n",
       "      <th>1932-42</th>\n",
       "      <td>0.715286</td>\n",
       "    </tr>\n",
       "    <tr>\n",
       "      <th>1952-62</th>\n",
       "      <td>0.457170</td>\n",
       "    </tr>\n",
       "    <tr>\n",
       "      <th>1942-52</th>\n",
       "      <td>0.428734</td>\n",
       "    </tr>\n",
       "    <tr>\n",
       "      <th>1922-32</th>\n",
       "      <td>0.369674</td>\n",
       "    </tr>\n",
       "    <tr>\n",
       "      <th>1912-22</th>\n",
       "      <td>0.336862</td>\n",
       "    </tr>\n",
       "    <tr>\n",
       "      <th>1902-12</th>\n",
       "      <td>0.314988</td>\n",
       "    </tr>\n",
       "  </tbody>\n",
       "</table>\n",
       "</div>"
      ],
      "text/plain": [
       "            porcentaje\n",
       "grupo_años            \n",
       "2002-12      35.606790\n",
       "1992-02      27.708023\n",
       "1982-92      18.816169\n",
       "1972-82      12.002362\n",
       "1902 antes    2.288039\n",
       "1962-72       0.955902\n",
       "1932-42       0.715286\n",
       "1952-62       0.457170\n",
       "1942-52       0.428734\n",
       "1922-32       0.369674\n",
       "1912-22       0.336862\n",
       "1902-12       0.314988"
      ]
     },
     "execution_count": 22,
     "metadata": {},
     "output_type": "execute_result"
    }
   ],
   "source": [
    "df_grafica_4 = dfcopy[\"grupo_años\"].value_counts()\n",
    "df_grafica_4 = pd.DataFrame(df_grafica_4)\n",
    "df_grafica_4.sort_index()\n",
    "df_grafica_4[\"count\"] = df_grafica_4[\"count\"] / df_grafica_4[\"count\"].sum() * 100\n",
    "df_grafica_4.rename(columns={\"count\": \"porcentaje\"}, inplace=True)\n",
    "df_grafica_4"
   ]
  },
  {
   "cell_type": "code",
   "execution_count": 23,
   "id": "1e92652b",
   "metadata": {},
   "outputs": [
    {
     "data": {
      "image/png": "[encoded data removed]",
      "text/plain": [
       "<Figure size 1000x600 with 1 Axes>"
      ]
     },
     "metadata": {},
     "output_type": "display_data"
    }
   ],
   "source": [
    "df_grafica_4_reindexado = df_grafica_4.reindex(['2002-12', '1992-02', '1982-92', '1972-82', '1962-72', '1932-42', '1952-62', '1942-52', '1922-32', '1912-22', '1902-12'])\n",
    "plt.figure(figsize=(10, 6))\n",
    "barras = plt.bar(df_grafica_4_reindexado.index, df_grafica_4_reindexado['porcentaje'], color='green', edgecolor='black', hatch='*')\n",
    "for barra in barras:\n",
    "    barra.set_linewidth(1)\n",
    "plt.axhspan(ymin=0, \n",
    "            ymax=40, \n",
    "            color=\"lightgray\", alpha=0.5)\n",
    "\n",
    "plt.title('Porcentaje por grupo de años')\n",
    "plt.xlabel('Grupo de años')\n",
    "plt.ylabel('Porcentaje')\n",
    "plt.xticks(rotation=45)\n",
    "plt.tight_layout()\n",
    "plt.show()\n"
   ]
  },
  {
   "cell_type": "markdown",
   "id": "3c5f3113",
   "metadata": {},
   "source": [
    "# GRAFICA 5"
   ]
  },
  {
   "cell_type": "code",
   "execution_count": 24,
   "id": "1de4924a",
   "metadata": {},
   "outputs": [
    {
     "data": {
      "text/html": [
       "<div>\n",
       "<style scoped>\n",
       "    .dataframe tbody tr th:only-of-type {\n",
       "        vertical-align: middle;\n",
       "    }\n",
       "\n",
       "    .dataframe tbody tr th {\n",
       "        vertical-align: top;\n",
       "    }\n",
       "\n",
       "    .dataframe thead th {\n",
       "        text-align: right;\n",
       "    }\n",
       "</style>\n",
       "<table border=\"1\" class=\"dataframe\">\n",
       "  <thead>\n",
       "    <tr style=\"text-align: right;\">\n",
       "      <th>peso_colores</th>\n",
       "      <th>green</th>\n",
       "      <th>orange</th>\n",
       "      <th>red</th>\n",
       "      <th>yellow</th>\n",
       "    </tr>\n",
       "    <tr>\n",
       "      <th>grupo_años</th>\n",
       "      <th></th>\n",
       "      <th></th>\n",
       "      <th></th>\n",
       "      <th></th>\n",
       "    </tr>\n",
       "  </thead>\n",
       "  <tbody>\n",
       "    <tr>\n",
       "      <th>1902 antes</th>\n",
       "      <td>259</td>\n",
       "      <td>64</td>\n",
       "      <td>589</td>\n",
       "      <td>134</td>\n",
       "    </tr>\n",
       "    <tr>\n",
       "      <th>1902-12</th>\n",
       "      <td>11</td>\n",
       "      <td>11</td>\n",
       "      <td>104</td>\n",
       "      <td>18</td>\n",
       "    </tr>\n",
       "    <tr>\n",
       "      <th>1912-22</th>\n",
       "      <td>9</td>\n",
       "      <td>11</td>\n",
       "      <td>113</td>\n",
       "      <td>21</td>\n",
       "    </tr>\n",
       "    <tr>\n",
       "      <th>1922-32</th>\n",
       "      <td>20</td>\n",
       "      <td>9</td>\n",
       "      <td>124</td>\n",
       "      <td>16</td>\n",
       "    </tr>\n",
       "    <tr>\n",
       "      <th>1932-42</th>\n",
       "      <td>28</td>\n",
       "      <td>23</td>\n",
       "      <td>231</td>\n",
       "      <td>45</td>\n",
       "    </tr>\n",
       "    <tr>\n",
       "      <th>1942-52</th>\n",
       "      <td>20</td>\n",
       "      <td>17</td>\n",
       "      <td>126</td>\n",
       "      <td>33</td>\n",
       "    </tr>\n",
       "    <tr>\n",
       "      <th>1952-62</th>\n",
       "      <td>36</td>\n",
       "      <td>18</td>\n",
       "      <td>138</td>\n",
       "      <td>17</td>\n",
       "    </tr>\n",
       "    <tr>\n",
       "      <th>1962-72</th>\n",
       "      <td>122</td>\n",
       "      <td>24</td>\n",
       "      <td>234</td>\n",
       "      <td>57</td>\n",
       "    </tr>\n",
       "    <tr>\n",
       "      <th>1972-82</th>\n",
       "      <td>4737</td>\n",
       "      <td>84</td>\n",
       "      <td>310</td>\n",
       "      <td>356</td>\n",
       "    </tr>\n",
       "    <tr>\n",
       "      <th>1982-92</th>\n",
       "      <td>7165</td>\n",
       "      <td>172</td>\n",
       "      <td>364</td>\n",
       "      <td>901</td>\n",
       "    </tr>\n",
       "    <tr>\n",
       "      <th>1992-02</th>\n",
       "      <td>9745</td>\n",
       "      <td>401</td>\n",
       "      <td>799</td>\n",
       "      <td>1722</td>\n",
       "    </tr>\n",
       "    <tr>\n",
       "      <th>2002-12</th>\n",
       "      <td>12109</td>\n",
       "      <td>572</td>\n",
       "      <td>1151</td>\n",
       "      <td>2446</td>\n",
       "    </tr>\n",
       "  </tbody>\n",
       "</table>\n",
       "</div>"
      ],
      "text/plain": [
       "peso_colores  green  orange   red  yellow\n",
       "grupo_años                               \n",
       "1902 antes      259      64   589     134\n",
       "1902-12          11      11   104      18\n",
       "1912-22           9      11   113      21\n",
       "1922-32          20       9   124      16\n",
       "1932-42          28      23   231      45\n",
       "1942-52          20      17   126      33\n",
       "1952-62          36      18   138      17\n",
       "1962-72         122      24   234      57\n",
       "1972-82        4737      84   310     356\n",
       "1982-92        7165     172   364     901\n",
       "1992-02        9745     401   799    1722\n",
       "2002-12       12109     572  1151    2446"
      ]
     },
     "execution_count": 24,
     "metadata": {},
     "output_type": "execute_result"
    }
   ],
   "source": [
    "grafica_5 = dfcopy.pivot_table(index='grupo_años', columns='peso_colores', aggfunc='size', fill_value=0)\n",
    "df_grafica_5 = pd.DataFrame(grafica_5)\n",
    "df_grafica_5"
   ]
  },
  {
   "cell_type": "code",
   "execution_count": 25,
   "id": "8b9f88b2",
   "metadata": {},
   "outputs": [
    {
     "data": {
      "image/png": "[encoded data removed]",
      "text/plain": [
       "<Figure size 1200x1000 with 1 Axes>"
      ]
     },
     "metadata": {},
     "output_type": "display_data"
    }
   ],
   "source": [
    "plt.figure(figsize=(12, 10))\n",
    "for peso_color in df_grafica_5.columns:\n",
    "    plt.plot(df_grafica_5.index, df_grafica_5[peso_color], color=peso_color, label=peso_color)\n",
    "plt.axhspan(ymin=-1000, \n",
    "            ymax=13000, \n",
    "            color=\"lightgray\", alpha=0.5)\n",
    "plt.title('Conteo por años y tamaño')\n",
    "plt.xlabel('años')\n",
    "plt.ylabel('Cantidad')\n",
    "plt.xticks(rotation=45)\n",
    "plt.legend(title='tamaño')\n",
    "plt.tight_layout()\n",
    "plt.show()\n"
   ]
  },
  {
   "cell_type": "code",
   "execution_count": 26,
   "id": "21e07b42",
   "metadata": {},
   "outputs": [
    {
     "name": "stdout",
     "output_type": "stream",
     "text": [
      "<class 'pandas.core.frame.DataFrame'>\n",
      "RangeIndex: 45716 entries, 0 to 45715\n",
      "Data columns (total 12 columns):\n",
      " #   Column           Non-Null Count  Dtype  \n",
      "---  ------           --------------  -----  \n",
      " 0   nombre           45716 non-null  object \n",
      " 1   id               45716 non-null  int64  \n",
      " 2   tipo_nombre      45716 non-null  object \n",
      " 3   clase_meteorito  45716 non-null  object \n",
      " 4   masa_gramos      45716 non-null  float64\n",
      " 5   encontrado       45716 non-null  object \n",
      " 6   año              45716 non-null  float64\n",
      " 7   latitud          45716 non-null  float64\n",
      " 8   longitud         45716 non-null  float64\n",
      " 9   localizacion     38401 non-null  object \n",
      " 10  peso_colores     45716 non-null  object \n",
      " 11  grupo_años       45716 non-null  object \n",
      "dtypes: float64(4), int64(1), object(7)\n",
      "memory usage: 4.2+ MB\n"
     ]
    }
   ],
   "source": [
    "dfcopy.info()"
   ]
  },
  {
   "cell_type": "code",
   "execution_count": 27,
   "id": "3eb9ac42",
   "metadata": {},
   "outputs": [],
   "source": [
    "import pandas as pd\n",
    "import io\n",
    "from geopy.geocoders import Nominatim\n",
    "from geopy.exc import GeocoderTimedOut, GeocoderUnavailable\n",
    "\n",
    "geolocalizador = Nominatim(user_agent=\"geo_locator\")\n"
   ]
  },
  {
   "cell_type": "code",
   "execution_count": 28,
   "id": "3f666e5f",
   "metadata": {},
   "outputs": [],
   "source": [
    "def obtener_pais(row):\n",
    "    ubicacion = geolocalizador.reverse((row['latitud'], row['longitud']), exactly_one=True)\n",
    "    if ubicacion:\n",
    "        address = ubicacion.raw.get('address', {})\n",
    "        country = address.get('country', 'indeterminado')\n",
    "        row['country'] = country\n",
    "    else:\n",
    "        row['country'] = 'indeterminado'\n",
    "    return row"
   ]
  },
  {
   "cell_type": "code",
   "execution_count": 29,
   "id": "f80929d6",
   "metadata": {},
   "outputs": [
    {
     "ename": "KeyboardInterrupt",
     "evalue": "",
     "output_type": "error",
     "traceback": [
      "\u001b[1;31m---------------------------------------------------------------------------\u001b[0m",
      "\u001b[1;31mKeyboardInterrupt\u001b[0m                         Traceback (most recent call last)",
      "Cell \u001b[1;32mIn[29], line 1\u001b[0m\n\u001b[1;32m----> 1\u001b[0m dfcopy \u001b[38;5;241m=\u001b[39m dfcopy\u001b[38;5;241m.\u001b[39mapply(obtener_pais, axis\u001b[38;5;241m=\u001b[39m\u001b[38;5;241m1\u001b[39m)\n",
      "File \u001b[1;32m~\\anaconda3\\Lib\\site-packages\\pandas\\core\\frame.py:9423\u001b[0m, in \u001b[0;36mDataFrame.apply\u001b[1;34m(self, func, axis, raw, result_type, args, **kwargs)\u001b[0m\n\u001b[0;32m   9412\u001b[0m \u001b[38;5;28;01mfrom\u001b[39;00m \u001b[38;5;21;01mpandas\u001b[39;00m\u001b[38;5;21;01m.\u001b[39;00m\u001b[38;5;21;01mcore\u001b[39;00m\u001b[38;5;21;01m.\u001b[39;00m\u001b[38;5;21;01mapply\u001b[39;00m \u001b[38;5;28;01mimport\u001b[39;00m frame_apply\n\u001b[0;32m   9414\u001b[0m op \u001b[38;5;241m=\u001b[39m frame_apply(\n\u001b[0;32m   9415\u001b[0m     \u001b[38;5;28mself\u001b[39m,\n\u001b[0;32m   9416\u001b[0m     func\u001b[38;5;241m=\u001b[39mfunc,\n\u001b[1;32m   (...)\u001b[0m\n\u001b[0;32m   9421\u001b[0m     kwargs\u001b[38;5;241m=\u001b[39mkwargs,\n\u001b[0;32m   9422\u001b[0m )\n\u001b[1;32m-> 9423\u001b[0m \u001b[38;5;28;01mreturn\u001b[39;00m op\u001b[38;5;241m.\u001b[39mapply()\u001b[38;5;241m.\u001b[39m__finalize__(\u001b[38;5;28mself\u001b[39m, method\u001b[38;5;241m=\u001b[39m\u001b[38;5;124m\"\u001b[39m\u001b[38;5;124mapply\u001b[39m\u001b[38;5;124m\"\u001b[39m)\n",
      "File \u001b[1;32m~\\anaconda3\\Lib\\site-packages\\pandas\\core\\apply.py:678\u001b[0m, in \u001b[0;36mFrameApply.apply\u001b[1;34m(self)\u001b[0m\n\u001b[0;32m    675\u001b[0m \u001b[38;5;28;01melif\u001b[39;00m \u001b[38;5;28mself\u001b[39m\u001b[38;5;241m.\u001b[39mraw:\n\u001b[0;32m    676\u001b[0m     \u001b[38;5;28;01mreturn\u001b[39;00m \u001b[38;5;28mself\u001b[39m\u001b[38;5;241m.\u001b[39mapply_raw()\n\u001b[1;32m--> 678\u001b[0m \u001b[38;5;28;01mreturn\u001b[39;00m \u001b[38;5;28mself\u001b[39m\u001b[38;5;241m.\u001b[39mapply_standard()\n",
      "File \u001b[1;32m~\\anaconda3\\Lib\\site-packages\\pandas\\core\\apply.py:798\u001b[0m, in \u001b[0;36mFrameApply.apply_standard\u001b[1;34m(self)\u001b[0m\n\u001b[0;32m    797\u001b[0m \u001b[38;5;28;01mdef\u001b[39;00m \u001b[38;5;21mapply_standard\u001b[39m(\u001b[38;5;28mself\u001b[39m):\n\u001b[1;32m--> 798\u001b[0m     results, res_index \u001b[38;5;241m=\u001b[39m \u001b[38;5;28mself\u001b[39m\u001b[38;5;241m.\u001b[39mapply_series_generator()\n\u001b[0;32m    800\u001b[0m     \u001b[38;5;66;03m# wrap results\u001b[39;00m\n\u001b[0;32m    801\u001b[0m     \u001b[38;5;28;01mreturn\u001b[39;00m \u001b[38;5;28mself\u001b[39m\u001b[38;5;241m.\u001b[39mwrap_results(results, res_index)\n",
      "File \u001b[1;32m~\\anaconda3\\Lib\\site-packages\\pandas\\core\\apply.py:814\u001b[0m, in \u001b[0;36mFrameApply.apply_series_generator\u001b[1;34m(self)\u001b[0m\n\u001b[0;32m    811\u001b[0m \u001b[38;5;28;01mwith\u001b[39;00m option_context(\u001b[38;5;124m\"\u001b[39m\u001b[38;5;124mmode.chained_assignment\u001b[39m\u001b[38;5;124m\"\u001b[39m, \u001b[38;5;28;01mNone\u001b[39;00m):\n\u001b[0;32m    812\u001b[0m     \u001b[38;5;28;01mfor\u001b[39;00m i, v \u001b[38;5;129;01min\u001b[39;00m \u001b[38;5;28menumerate\u001b[39m(series_gen):\n\u001b[0;32m    813\u001b[0m         \u001b[38;5;66;03m# ignore SettingWithCopy here in case the user mutates\u001b[39;00m\n\u001b[1;32m--> 814\u001b[0m         results[i] \u001b[38;5;241m=\u001b[39m \u001b[38;5;28mself\u001b[39m\u001b[38;5;241m.\u001b[39mf(v)\n\u001b[0;32m    815\u001b[0m         \u001b[38;5;28;01mif\u001b[39;00m \u001b[38;5;28misinstance\u001b[39m(results[i], ABCSeries):\n\u001b[0;32m    816\u001b[0m             \u001b[38;5;66;03m# If we have a view on v, we need to make a copy because\u001b[39;00m\n\u001b[0;32m    817\u001b[0m             \u001b[38;5;66;03m#  series_generator will swap out the underlying data\u001b[39;00m\n\u001b[0;32m    818\u001b[0m             results[i] \u001b[38;5;241m=\u001b[39m results[i]\u001b[38;5;241m.\u001b[39mcopy(deep\u001b[38;5;241m=\u001b[39m\u001b[38;5;28;01mFalse\u001b[39;00m)\n",
      "Cell \u001b[1;32mIn[28], line 2\u001b[0m, in \u001b[0;36mobtener_pais\u001b[1;34m(row)\u001b[0m\n\u001b[0;32m      1\u001b[0m \u001b[38;5;28;01mdef\u001b[39;00m \u001b[38;5;21mobtener_pais\u001b[39m(row):\n\u001b[1;32m----> 2\u001b[0m     ubicacion \u001b[38;5;241m=\u001b[39m geolocalizador\u001b[38;5;241m.\u001b[39mreverse((row[\u001b[38;5;124m'\u001b[39m\u001b[38;5;124mlatitud\u001b[39m\u001b[38;5;124m'\u001b[39m], row[\u001b[38;5;124m'\u001b[39m\u001b[38;5;124mlongitud\u001b[39m\u001b[38;5;124m'\u001b[39m]), exactly_one\u001b[38;5;241m=\u001b[39m\u001b[38;5;28;01mTrue\u001b[39;00m)\n\u001b[0;32m      3\u001b[0m     \u001b[38;5;28;01mif\u001b[39;00m ubicacion:\n\u001b[0;32m      4\u001b[0m         address \u001b[38;5;241m=\u001b[39m ubicacion\u001b[38;5;241m.\u001b[39mraw\u001b[38;5;241m.\u001b[39mget(\u001b[38;5;124m'\u001b[39m\u001b[38;5;124maddress\u001b[39m\u001b[38;5;124m'\u001b[39m, {})\n",
      "File \u001b[1;32m~\\anaconda3\\Lib\\site-packages\\geopy\\geocoders\\nominatim.py:372\u001b[0m, in \u001b[0;36mNominatim.reverse\u001b[1;34m(self, query, exactly_one, timeout, language, addressdetails, zoom, namedetails)\u001b[0m\n\u001b[0;32m    370\u001b[0m logger\u001b[38;5;241m.\u001b[39mdebug(\u001b[38;5;124m\"\u001b[39m\u001b[38;5;132;01m%s\u001b[39;00m\u001b[38;5;124m.reverse: \u001b[39m\u001b[38;5;132;01m%s\u001b[39;00m\u001b[38;5;124m\"\u001b[39m, \u001b[38;5;28mself\u001b[39m\u001b[38;5;241m.\u001b[39m\u001b[38;5;18m__class__\u001b[39m\u001b[38;5;241m.\u001b[39m\u001b[38;5;18m__name__\u001b[39m, url)\n\u001b[0;32m    371\u001b[0m callback \u001b[38;5;241m=\u001b[39m partial(\u001b[38;5;28mself\u001b[39m\u001b[38;5;241m.\u001b[39m_parse_json, exactly_one\u001b[38;5;241m=\u001b[39mexactly_one)\n\u001b[1;32m--> 372\u001b[0m \u001b[38;5;28;01mreturn\u001b[39;00m \u001b[38;5;28mself\u001b[39m\u001b[38;5;241m.\u001b[39m_call_geocoder(url, callback, timeout\u001b[38;5;241m=\u001b[39mtimeout)\n",
      "File \u001b[1;32m~\\anaconda3\\Lib\\site-packages\\geopy\\geocoders\\base.py:368\u001b[0m, in \u001b[0;36mGeocoder._call_geocoder\u001b[1;34m(self, url, callback, timeout, is_json, headers)\u001b[0m\n\u001b[0;32m    366\u001b[0m \u001b[38;5;28;01mtry\u001b[39;00m:\n\u001b[0;32m    367\u001b[0m     \u001b[38;5;28;01mif\u001b[39;00m is_json:\n\u001b[1;32m--> 368\u001b[0m         result \u001b[38;5;241m=\u001b[39m \u001b[38;5;28mself\u001b[39m\u001b[38;5;241m.\u001b[39madapter\u001b[38;5;241m.\u001b[39mget_json(url, timeout\u001b[38;5;241m=\u001b[39mtimeout, headers\u001b[38;5;241m=\u001b[39mreq_headers)\n\u001b[0;32m    369\u001b[0m     \u001b[38;5;28;01melse\u001b[39;00m:\n\u001b[0;32m    370\u001b[0m         result \u001b[38;5;241m=\u001b[39m \u001b[38;5;28mself\u001b[39m\u001b[38;5;241m.\u001b[39madapter\u001b[38;5;241m.\u001b[39mget_text(url, timeout\u001b[38;5;241m=\u001b[39mtimeout, headers\u001b[38;5;241m=\u001b[39mreq_headers)\n",
      "File \u001b[1;32m~\\anaconda3\\Lib\\site-packages\\geopy\\adapters.py:472\u001b[0m, in \u001b[0;36mRequestsAdapter.get_json\u001b[1;34m(self, url, timeout, headers)\u001b[0m\n\u001b[0;32m    471\u001b[0m \u001b[38;5;28;01mdef\u001b[39;00m \u001b[38;5;21mget_json\u001b[39m(\u001b[38;5;28mself\u001b[39m, url, \u001b[38;5;241m*\u001b[39m, timeout, headers):\n\u001b[1;32m--> 472\u001b[0m     resp \u001b[38;5;241m=\u001b[39m \u001b[38;5;28mself\u001b[39m\u001b[38;5;241m.\u001b[39m_request(url, timeout\u001b[38;5;241m=\u001b[39mtimeout, headers\u001b[38;5;241m=\u001b[39mheaders)\n\u001b[0;32m    473\u001b[0m     \u001b[38;5;28;01mtry\u001b[39;00m:\n\u001b[0;32m    474\u001b[0m         \u001b[38;5;28;01mreturn\u001b[39;00m resp\u001b[38;5;241m.\u001b[39mjson()\n",
      "File \u001b[1;32m~\\anaconda3\\Lib\\site-packages\\geopy\\adapters.py:482\u001b[0m, in \u001b[0;36mRequestsAdapter._request\u001b[1;34m(self, url, timeout, headers)\u001b[0m\n\u001b[0;32m    480\u001b[0m \u001b[38;5;28;01mdef\u001b[39;00m \u001b[38;5;21m_request\u001b[39m(\u001b[38;5;28mself\u001b[39m, url, \u001b[38;5;241m*\u001b[39m, timeout, headers):\n\u001b[0;32m    481\u001b[0m     \u001b[38;5;28;01mtry\u001b[39;00m:\n\u001b[1;32m--> 482\u001b[0m         resp \u001b[38;5;241m=\u001b[39m \u001b[38;5;28mself\u001b[39m\u001b[38;5;241m.\u001b[39msession\u001b[38;5;241m.\u001b[39mget(url, timeout\u001b[38;5;241m=\u001b[39mtimeout, headers\u001b[38;5;241m=\u001b[39mheaders)\n\u001b[0;32m    483\u001b[0m     \u001b[38;5;28;01mexcept\u001b[39;00m \u001b[38;5;167;01mException\u001b[39;00m \u001b[38;5;28;01mas\u001b[39;00m error:\n\u001b[0;32m    484\u001b[0m         message \u001b[38;5;241m=\u001b[39m \u001b[38;5;28mstr\u001b[39m(error)\n",
      "File \u001b[1;32m~\\anaconda3\\Lib\\site-packages\\requests\\sessions.py:602\u001b[0m, in \u001b[0;36mSession.get\u001b[1;34m(self, url, **kwargs)\u001b[0m\n\u001b[0;32m    594\u001b[0m \u001b[38;5;250m\u001b[39m\u001b[38;5;124mr\u001b[39m\u001b[38;5;124;03m\"\"\"Sends a GET request. Returns :class:`Response` object.\u001b[39;00m\n\u001b[0;32m    595\u001b[0m \n\u001b[0;32m    596\u001b[0m \u001b[38;5;124;03m:param url: URL for the new :class:`Request` object.\u001b[39;00m\n\u001b[0;32m    597\u001b[0m \u001b[38;5;124;03m:param \\*\\*kwargs: Optional arguments that ``request`` takes.\u001b[39;00m\n\u001b[0;32m    598\u001b[0m \u001b[38;5;124;03m:rtype: requests.Response\u001b[39;00m\n\u001b[0;32m    599\u001b[0m \u001b[38;5;124;03m\"\"\"\u001b[39;00m\n\u001b[0;32m    601\u001b[0m kwargs\u001b[38;5;241m.\u001b[39msetdefault(\u001b[38;5;124m\"\u001b[39m\u001b[38;5;124mallow_redirects\u001b[39m\u001b[38;5;124m\"\u001b[39m, \u001b[38;5;28;01mTrue\u001b[39;00m)\n\u001b[1;32m--> 602\u001b[0m \u001b[38;5;28;01mreturn\u001b[39;00m \u001b[38;5;28mself\u001b[39m\u001b[38;5;241m.\u001b[39mrequest(\u001b[38;5;124m\"\u001b[39m\u001b[38;5;124mGET\u001b[39m\u001b[38;5;124m\"\u001b[39m, url, \u001b[38;5;241m*\u001b[39m\u001b[38;5;241m*\u001b[39mkwargs)\n",
      "File \u001b[1;32m~\\anaconda3\\Lib\\site-packages\\requests\\sessions.py:589\u001b[0m, in \u001b[0;36mSession.request\u001b[1;34m(self, method, url, params, data, headers, cookies, files, auth, timeout, allow_redirects, proxies, hooks, stream, verify, cert, json)\u001b[0m\n\u001b[0;32m    584\u001b[0m send_kwargs \u001b[38;5;241m=\u001b[39m {\n\u001b[0;32m    585\u001b[0m     \u001b[38;5;124m\"\u001b[39m\u001b[38;5;124mtimeout\u001b[39m\u001b[38;5;124m\"\u001b[39m: timeout,\n\u001b[0;32m    586\u001b[0m     \u001b[38;5;124m\"\u001b[39m\u001b[38;5;124mallow_redirects\u001b[39m\u001b[38;5;124m\"\u001b[39m: allow_redirects,\n\u001b[0;32m    587\u001b[0m }\n\u001b[0;32m    588\u001b[0m send_kwargs\u001b[38;5;241m.\u001b[39mupdate(settings)\n\u001b[1;32m--> 589\u001b[0m resp \u001b[38;5;241m=\u001b[39m \u001b[38;5;28mself\u001b[39m\u001b[38;5;241m.\u001b[39msend(prep, \u001b[38;5;241m*\u001b[39m\u001b[38;5;241m*\u001b[39msend_kwargs)\n\u001b[0;32m    591\u001b[0m \u001b[38;5;28;01mreturn\u001b[39;00m resp\n",
      "File \u001b[1;32m~\\anaconda3\\Lib\\site-packages\\requests\\sessions.py:703\u001b[0m, in \u001b[0;36mSession.send\u001b[1;34m(self, request, **kwargs)\u001b[0m\n\u001b[0;32m    700\u001b[0m start \u001b[38;5;241m=\u001b[39m preferred_clock()\n\u001b[0;32m    702\u001b[0m \u001b[38;5;66;03m# Send the request\u001b[39;00m\n\u001b[1;32m--> 703\u001b[0m r \u001b[38;5;241m=\u001b[39m adapter\u001b[38;5;241m.\u001b[39msend(request, \u001b[38;5;241m*\u001b[39m\u001b[38;5;241m*\u001b[39mkwargs)\n\u001b[0;32m    705\u001b[0m \u001b[38;5;66;03m# Total elapsed time of the request (approximately)\u001b[39;00m\n\u001b[0;32m    706\u001b[0m elapsed \u001b[38;5;241m=\u001b[39m preferred_clock() \u001b[38;5;241m-\u001b[39m start\n",
      "File \u001b[1;32m~\\anaconda3\\Lib\\site-packages\\requests\\adapters.py:486\u001b[0m, in \u001b[0;36mHTTPAdapter.send\u001b[1;34m(self, request, stream, timeout, verify, cert, proxies)\u001b[0m\n\u001b[0;32m    483\u001b[0m     timeout \u001b[38;5;241m=\u001b[39m TimeoutSauce(connect\u001b[38;5;241m=\u001b[39mtimeout, read\u001b[38;5;241m=\u001b[39mtimeout)\n\u001b[0;32m    485\u001b[0m \u001b[38;5;28;01mtry\u001b[39;00m:\n\u001b[1;32m--> 486\u001b[0m     resp \u001b[38;5;241m=\u001b[39m conn\u001b[38;5;241m.\u001b[39murlopen(\n\u001b[0;32m    487\u001b[0m         method\u001b[38;5;241m=\u001b[39mrequest\u001b[38;5;241m.\u001b[39mmethod,\n\u001b[0;32m    488\u001b[0m         url\u001b[38;5;241m=\u001b[39murl,\n\u001b[0;32m    489\u001b[0m         body\u001b[38;5;241m=\u001b[39mrequest\u001b[38;5;241m.\u001b[39mbody,\n\u001b[0;32m    490\u001b[0m         headers\u001b[38;5;241m=\u001b[39mrequest\u001b[38;5;241m.\u001b[39mheaders,\n\u001b[0;32m    491\u001b[0m         redirect\u001b[38;5;241m=\u001b[39m\u001b[38;5;28;01mFalse\u001b[39;00m,\n\u001b[0;32m    492\u001b[0m         assert_same_host\u001b[38;5;241m=\u001b[39m\u001b[38;5;28;01mFalse\u001b[39;00m,\n\u001b[0;32m    493\u001b[0m         preload_content\u001b[38;5;241m=\u001b[39m\u001b[38;5;28;01mFalse\u001b[39;00m,\n\u001b[0;32m    494\u001b[0m         decode_content\u001b[38;5;241m=\u001b[39m\u001b[38;5;28;01mFalse\u001b[39;00m,\n\u001b[0;32m    495\u001b[0m         retries\u001b[38;5;241m=\u001b[39m\u001b[38;5;28mself\u001b[39m\u001b[38;5;241m.\u001b[39mmax_retries,\n\u001b[0;32m    496\u001b[0m         timeout\u001b[38;5;241m=\u001b[39mtimeout,\n\u001b[0;32m    497\u001b[0m         chunked\u001b[38;5;241m=\u001b[39mchunked,\n\u001b[0;32m    498\u001b[0m     )\n\u001b[0;32m    500\u001b[0m \u001b[38;5;28;01mexcept\u001b[39;00m (ProtocolError, \u001b[38;5;167;01mOSError\u001b[39;00m) \u001b[38;5;28;01mas\u001b[39;00m err:\n\u001b[0;32m    501\u001b[0m     \u001b[38;5;28;01mraise\u001b[39;00m \u001b[38;5;167;01mConnectionError\u001b[39;00m(err, request\u001b[38;5;241m=\u001b[39mrequest)\n",
      "File \u001b[1;32m~\\anaconda3\\Lib\\site-packages\\urllib3\\connectionpool.py:714\u001b[0m, in \u001b[0;36mHTTPConnectionPool.urlopen\u001b[1;34m(self, method, url, body, headers, retries, redirect, assert_same_host, timeout, pool_timeout, release_conn, chunked, body_pos, **response_kw)\u001b[0m\n\u001b[0;32m    711\u001b[0m     \u001b[38;5;28mself\u001b[39m\u001b[38;5;241m.\u001b[39m_prepare_proxy(conn)\n\u001b[0;32m    713\u001b[0m \u001b[38;5;66;03m# Make the request on the httplib connection object.\u001b[39;00m\n\u001b[1;32m--> 714\u001b[0m httplib_response \u001b[38;5;241m=\u001b[39m \u001b[38;5;28mself\u001b[39m\u001b[38;5;241m.\u001b[39m_make_request(\n\u001b[0;32m    715\u001b[0m     conn,\n\u001b[0;32m    716\u001b[0m     method,\n\u001b[0;32m    717\u001b[0m     url,\n\u001b[0;32m    718\u001b[0m     timeout\u001b[38;5;241m=\u001b[39mtimeout_obj,\n\u001b[0;32m    719\u001b[0m     body\u001b[38;5;241m=\u001b[39mbody,\n\u001b[0;32m    720\u001b[0m     headers\u001b[38;5;241m=\u001b[39mheaders,\n\u001b[0;32m    721\u001b[0m     chunked\u001b[38;5;241m=\u001b[39mchunked,\n\u001b[0;32m    722\u001b[0m )\n\u001b[0;32m    724\u001b[0m \u001b[38;5;66;03m# If we're going to release the connection in ``finally:``, then\u001b[39;00m\n\u001b[0;32m    725\u001b[0m \u001b[38;5;66;03m# the response doesn't need to know about the connection. Otherwise\u001b[39;00m\n\u001b[0;32m    726\u001b[0m \u001b[38;5;66;03m# it will also try to release it and we'll have a double-release\u001b[39;00m\n\u001b[0;32m    727\u001b[0m \u001b[38;5;66;03m# mess.\u001b[39;00m\n\u001b[0;32m    728\u001b[0m response_conn \u001b[38;5;241m=\u001b[39m conn \u001b[38;5;28;01mif\u001b[39;00m \u001b[38;5;129;01mnot\u001b[39;00m release_conn \u001b[38;5;28;01melse\u001b[39;00m \u001b[38;5;28;01mNone\u001b[39;00m\n",
      "File \u001b[1;32m~\\anaconda3\\Lib\\site-packages\\urllib3\\connectionpool.py:466\u001b[0m, in \u001b[0;36mHTTPConnectionPool._make_request\u001b[1;34m(self, conn, method, url, timeout, chunked, **httplib_request_kw)\u001b[0m\n\u001b[0;32m    461\u001b[0m             httplib_response \u001b[38;5;241m=\u001b[39m conn\u001b[38;5;241m.\u001b[39mgetresponse()\n\u001b[0;32m    462\u001b[0m         \u001b[38;5;28;01mexcept\u001b[39;00m \u001b[38;5;167;01mBaseException\u001b[39;00m \u001b[38;5;28;01mas\u001b[39;00m e:\n\u001b[0;32m    463\u001b[0m             \u001b[38;5;66;03m# Remove the TypeError from the exception chain in\u001b[39;00m\n\u001b[0;32m    464\u001b[0m             \u001b[38;5;66;03m# Python 3 (including for exceptions like SystemExit).\u001b[39;00m\n\u001b[0;32m    465\u001b[0m             \u001b[38;5;66;03m# Otherwise it looks like a bug in the code.\u001b[39;00m\n\u001b[1;32m--> 466\u001b[0m             six\u001b[38;5;241m.\u001b[39mraise_from(e, \u001b[38;5;28;01mNone\u001b[39;00m)\n\u001b[0;32m    467\u001b[0m \u001b[38;5;28;01mexcept\u001b[39;00m (SocketTimeout, BaseSSLError, SocketError) \u001b[38;5;28;01mas\u001b[39;00m e:\n\u001b[0;32m    468\u001b[0m     \u001b[38;5;28mself\u001b[39m\u001b[38;5;241m.\u001b[39m_raise_timeout(err\u001b[38;5;241m=\u001b[39me, url\u001b[38;5;241m=\u001b[39murl, timeout_value\u001b[38;5;241m=\u001b[39mread_timeout)\n",
      "File \u001b[1;32m<string>:3\u001b[0m, in \u001b[0;36mraise_from\u001b[1;34m(value, from_value)\u001b[0m\n",
      "File \u001b[1;32m~\\anaconda3\\Lib\\site-packages\\urllib3\\connectionpool.py:461\u001b[0m, in \u001b[0;36mHTTPConnectionPool._make_request\u001b[1;34m(self, conn, method, url, timeout, chunked, **httplib_request_kw)\u001b[0m\n\u001b[0;32m    458\u001b[0m \u001b[38;5;28;01mexcept\u001b[39;00m \u001b[38;5;167;01mTypeError\u001b[39;00m:\n\u001b[0;32m    459\u001b[0m     \u001b[38;5;66;03m# Python 3\u001b[39;00m\n\u001b[0;32m    460\u001b[0m     \u001b[38;5;28;01mtry\u001b[39;00m:\n\u001b[1;32m--> 461\u001b[0m         httplib_response \u001b[38;5;241m=\u001b[39m conn\u001b[38;5;241m.\u001b[39mgetresponse()\n\u001b[0;32m    462\u001b[0m     \u001b[38;5;28;01mexcept\u001b[39;00m \u001b[38;5;167;01mBaseException\u001b[39;00m \u001b[38;5;28;01mas\u001b[39;00m e:\n\u001b[0;32m    463\u001b[0m         \u001b[38;5;66;03m# Remove the TypeError from the exception chain in\u001b[39;00m\n\u001b[0;32m    464\u001b[0m         \u001b[38;5;66;03m# Python 3 (including for exceptions like SystemExit).\u001b[39;00m\n\u001b[0;32m    465\u001b[0m         \u001b[38;5;66;03m# Otherwise it looks like a bug in the code.\u001b[39;00m\n\u001b[0;32m    466\u001b[0m         six\u001b[38;5;241m.\u001b[39mraise_from(e, \u001b[38;5;28;01mNone\u001b[39;00m)\n",
      "File \u001b[1;32m~\\anaconda3\\Lib\\http\\client.py:1378\u001b[0m, in \u001b[0;36mHTTPConnection.getresponse\u001b[1;34m(self)\u001b[0m\n\u001b[0;32m   1376\u001b[0m \u001b[38;5;28;01mtry\u001b[39;00m:\n\u001b[0;32m   1377\u001b[0m     \u001b[38;5;28;01mtry\u001b[39;00m:\n\u001b[1;32m-> 1378\u001b[0m         response\u001b[38;5;241m.\u001b[39mbegin()\n\u001b[0;32m   1379\u001b[0m     \u001b[38;5;28;01mexcept\u001b[39;00m \u001b[38;5;167;01mConnectionError\u001b[39;00m:\n\u001b[0;32m   1380\u001b[0m         \u001b[38;5;28mself\u001b[39m\u001b[38;5;241m.\u001b[39mclose()\n",
      "File \u001b[1;32m~\\anaconda3\\Lib\\http\\client.py:318\u001b[0m, in \u001b[0;36mHTTPResponse.begin\u001b[1;34m(self)\u001b[0m\n\u001b[0;32m    316\u001b[0m \u001b[38;5;66;03m# read until we get a non-100 response\u001b[39;00m\n\u001b[0;32m    317\u001b[0m \u001b[38;5;28;01mwhile\u001b[39;00m \u001b[38;5;28;01mTrue\u001b[39;00m:\n\u001b[1;32m--> 318\u001b[0m     version, status, reason \u001b[38;5;241m=\u001b[39m \u001b[38;5;28mself\u001b[39m\u001b[38;5;241m.\u001b[39m_read_status()\n\u001b[0;32m    319\u001b[0m     \u001b[38;5;28;01mif\u001b[39;00m status \u001b[38;5;241m!=\u001b[39m CONTINUE:\n\u001b[0;32m    320\u001b[0m         \u001b[38;5;28;01mbreak\u001b[39;00m\n",
      "File \u001b[1;32m~\\anaconda3\\Lib\\http\\client.py:279\u001b[0m, in \u001b[0;36mHTTPResponse._read_status\u001b[1;34m(self)\u001b[0m\n\u001b[0;32m    278\u001b[0m \u001b[38;5;28;01mdef\u001b[39;00m \u001b[38;5;21m_read_status\u001b[39m(\u001b[38;5;28mself\u001b[39m):\n\u001b[1;32m--> 279\u001b[0m     line \u001b[38;5;241m=\u001b[39m \u001b[38;5;28mstr\u001b[39m(\u001b[38;5;28mself\u001b[39m\u001b[38;5;241m.\u001b[39mfp\u001b[38;5;241m.\u001b[39mreadline(_MAXLINE \u001b[38;5;241m+\u001b[39m \u001b[38;5;241m1\u001b[39m), \u001b[38;5;124m\"\u001b[39m\u001b[38;5;124miso-8859-1\u001b[39m\u001b[38;5;124m\"\u001b[39m)\n\u001b[0;32m    280\u001b[0m     \u001b[38;5;28;01mif\u001b[39;00m \u001b[38;5;28mlen\u001b[39m(line) \u001b[38;5;241m>\u001b[39m _MAXLINE:\n\u001b[0;32m    281\u001b[0m         \u001b[38;5;28;01mraise\u001b[39;00m LineTooLong(\u001b[38;5;124m\"\u001b[39m\u001b[38;5;124mstatus line\u001b[39m\u001b[38;5;124m\"\u001b[39m)\n",
      "File \u001b[1;32m~\\anaconda3\\Lib\\socket.py:706\u001b[0m, in \u001b[0;36mSocketIO.readinto\u001b[1;34m(self, b)\u001b[0m\n\u001b[0;32m    704\u001b[0m \u001b[38;5;28;01mwhile\u001b[39;00m \u001b[38;5;28;01mTrue\u001b[39;00m:\n\u001b[0;32m    705\u001b[0m     \u001b[38;5;28;01mtry\u001b[39;00m:\n\u001b[1;32m--> 706\u001b[0m         \u001b[38;5;28;01mreturn\u001b[39;00m \u001b[38;5;28mself\u001b[39m\u001b[38;5;241m.\u001b[39m_sock\u001b[38;5;241m.\u001b[39mrecv_into(b)\n\u001b[0;32m    707\u001b[0m     \u001b[38;5;28;01mexcept\u001b[39;00m timeout:\n\u001b[0;32m    708\u001b[0m         \u001b[38;5;28mself\u001b[39m\u001b[38;5;241m.\u001b[39m_timeout_occurred \u001b[38;5;241m=\u001b[39m \u001b[38;5;28;01mTrue\u001b[39;00m\n",
      "File \u001b[1;32m~\\anaconda3\\Lib\\ssl.py:1311\u001b[0m, in \u001b[0;36mSSLSocket.recv_into\u001b[1;34m(self, buffer, nbytes, flags)\u001b[0m\n\u001b[0;32m   1307\u001b[0m     \u001b[38;5;28;01mif\u001b[39;00m flags \u001b[38;5;241m!=\u001b[39m \u001b[38;5;241m0\u001b[39m:\n\u001b[0;32m   1308\u001b[0m         \u001b[38;5;28;01mraise\u001b[39;00m \u001b[38;5;167;01mValueError\u001b[39;00m(\n\u001b[0;32m   1309\u001b[0m           \u001b[38;5;124m\"\u001b[39m\u001b[38;5;124mnon-zero flags not allowed in calls to recv_into() on \u001b[39m\u001b[38;5;132;01m%s\u001b[39;00m\u001b[38;5;124m\"\u001b[39m \u001b[38;5;241m%\u001b[39m\n\u001b[0;32m   1310\u001b[0m           \u001b[38;5;28mself\u001b[39m\u001b[38;5;241m.\u001b[39m\u001b[38;5;18m__class__\u001b[39m)\n\u001b[1;32m-> 1311\u001b[0m     \u001b[38;5;28;01mreturn\u001b[39;00m \u001b[38;5;28mself\u001b[39m\u001b[38;5;241m.\u001b[39mread(nbytes, buffer)\n\u001b[0;32m   1312\u001b[0m \u001b[38;5;28;01melse\u001b[39;00m:\n\u001b[0;32m   1313\u001b[0m     \u001b[38;5;28;01mreturn\u001b[39;00m \u001b[38;5;28msuper\u001b[39m()\u001b[38;5;241m.\u001b[39mrecv_into(buffer, nbytes, flags)\n",
      "File \u001b[1;32m~\\anaconda3\\Lib\\ssl.py:1167\u001b[0m, in \u001b[0;36mSSLSocket.read\u001b[1;34m(self, len, buffer)\u001b[0m\n\u001b[0;32m   1165\u001b[0m \u001b[38;5;28;01mtry\u001b[39;00m:\n\u001b[0;32m   1166\u001b[0m     \u001b[38;5;28;01mif\u001b[39;00m buffer \u001b[38;5;129;01mis\u001b[39;00m \u001b[38;5;129;01mnot\u001b[39;00m \u001b[38;5;28;01mNone\u001b[39;00m:\n\u001b[1;32m-> 1167\u001b[0m         \u001b[38;5;28;01mreturn\u001b[39;00m \u001b[38;5;28mself\u001b[39m\u001b[38;5;241m.\u001b[39m_sslobj\u001b[38;5;241m.\u001b[39mread(\u001b[38;5;28mlen\u001b[39m, buffer)\n\u001b[0;32m   1168\u001b[0m     \u001b[38;5;28;01melse\u001b[39;00m:\n\u001b[0;32m   1169\u001b[0m         \u001b[38;5;28;01mreturn\u001b[39;00m \u001b[38;5;28mself\u001b[39m\u001b[38;5;241m.\u001b[39m_sslobj\u001b[38;5;241m.\u001b[39mread(\u001b[38;5;28mlen\u001b[39m)\n",
      "\u001b[1;31mKeyboardInterrupt\u001b[0m: "
     ]
    }
   ],
   "source": [
    "dfcopy = dfcopy.apply(obtener_pais, axis=1)"
   ]
  },
  {
   "cell_type": "markdown",
   "id": "a0901b0b",
   "metadata": {},
   "source": [
    "from geopy.geocoders import Nominatim\n",
    "import time\n",
    "\n",
    "def obtener_pais(latitud, longitud):\n",
    "    geolocalizador = Nominatim(user_agent=\"geo_locator\")\n",
    "    ubicacion = geolocalizador.reverse((latitud, longitud), exactly_one=True)\n",
    "    if ubicacion is not None:\n",
    "        return ubicacion.address.split(\",\")[-1].strip()\n",
    "    else:\n",
    "        return \"indeterminado\"\n",
    "\n",
    "paises = []\n",
    "iteraciones_diarias = 0\n",
    "limite_diario = 50000\n",
    "\n",
    "# Variable para almacenar la última fila procesada con éxito\n",
    "ultima_fila_exitosa = 0\n",
    "\n",
    "while True:\n",
    "    for index, fila in dfcopy.iterrows():\n",
    "        # Verificar si se ha alcanzado el límite diario de iteraciones\n",
    "        if iteraciones_diarias >= limite_diario:\n",
    "            print(\"Se ha alcanzado el límite diario de iteraciones.\")\n",
    "            break\n",
    "        \n",
    "        try:\n",
    "            # Llamar a la función obtener_pais para obtener el país\n",
    "            pais = obtener_pais(fila[\"latitud\"], fila[\"longitud\"])\n",
    "            paises.append(pais)\n",
    "            \n",
    "            # Actualizar la variable de la última fila procesada con éxito\n",
    "            ultima_fila_exitosa = index\n",
    "            \n",
    "            # Incrementar el contador de iteraciones diarias\n",
    "            iteraciones_diarias += 1\n",
    "            \n",
    "            # Imprimir el número de países obtenidos después de cada 100 iteraciones\n",
    "            if len(paises) % 100 == 0:\n",
    "                print(\"Países obtenidos hasta el momento:\", len(paises))\n",
    "                \n",
    "            # Si el número de países obtenidos es un múltiplo de 100, pausar la ejecución durante 5 minutos\n",
    "            if len(paises) % 100 == 0:\n",
    "                print(\"Pausa de 5 minutos iniciada...\")\n",
    "                time.sleep(10)  # 5 minutos en segundos\n",
    "        \n",
    "        except Exception as e:\n",
    "            # Imprimir el mensaje de error\n",
    "            print(\"Se produjo un error:\", e)\n",
    "            print(\"Reanudando la iteración desde la última fila procesada con éxito + 1.\")\n",
    "            \n",
    "            # Pausar la ejecución durante 5 minutos\n",
    "            print(\"Pausa de 5 minutos iniciada...\")\n",
    "            time.sleep(300)  # 5 minutos en segundos\n",
    "            \n",
    "            # Continuar la iteración desde la última fila procesada con éxito + 1\n",
    "            continue\n",
    "    \n",
    "    # Verificar si se ha alcanzado el límite diario de iteraciones\n",
    "    if iteraciones_diarias >= limite_diario:\n",
    "        print(\"Se ha alcanzado el límite diario de iteraciones.\")\n",
    "        break\n",
    "\n",
    "print(\"Iteraciones completadas:\", iteraciones_diarias)\n",
    "\n",
    "\n"
   ]
  },
  {
   "cell_type": "code",
   "execution_count": null,
   "id": "0df174cf",
   "metadata": {},
   "outputs": [],
   "source": [
    "len(paises)"
   ]
  },
  {
   "cell_type": "code",
   "execution_count": null,
   "id": "4464f436",
   "metadata": {},
   "outputs": [],
   "source": [
    "del paises[45716:50001]\n"
   ]
  },
  {
   "cell_type": "code",
   "execution_count": null,
   "id": "3d994bd0",
   "metadata": {},
   "outputs": [],
   "source": [
    "len(paises)"
   ]
  },
  {
   "cell_type": "code",
   "execution_count": null,
   "id": "c42442e0",
   "metadata": {},
   "outputs": [],
   "source": [
    "dfcopy[\"pais\"] = paises"
   ]
  },
  {
   "cell_type": "code",
   "execution_count": null,
   "id": "58dafaa0",
   "metadata": {
    "scrolled": true
   },
   "outputs": [],
   "source": [
    "dfcopy.to_csv(\"dfmeteoritos.csv\")"
   ]
  },
  {
   "cell_type": "code",
   "execution_count": null,
   "id": "c2ae2ffb",
   "metadata": {},
   "outputs": [],
   "source": [
    "dfcopy.info()"
   ]
  },
  {
   "cell_type": "code",
   "execution_count": null,
   "id": "5b77f796",
   "metadata": {},
   "outputs": [],
   "source": [
    "dfcopy[\"pais\"].value_counts()"
   ]
  },
  {
   "cell_type": "code",
   "execution_count": null,
   "id": "3e712d1f",
   "metadata": {},
   "outputs": [],
   "source": [
    "dfcopy[\"pais\"].unique()"
   ]
  },
  {
   "cell_type": "code",
   "execution_count": null,
   "id": "01f33653",
   "metadata": {},
   "outputs": [],
   "source": [
    "paises_ingles = ['Germany', 'Denmark', 'Canada',\n",
    "                 'Mexico', 'Argentina', 'Pakistan',\n",
    "                 'Mongolia', 'France', 'Mauritania',\n",
    "                 'Niger', 'Jordan', 'India', 'Nigeria',\n",
    "                 'Turkey', 'Saudi Arabia', 'Sudan',\n",
    "                 'Italy', 'Democratic Republic of the Congo',\n",
    "                 'United Kingdom', 'Syria', 'Ukraine',\n",
    "                 'United States', 'Iraq', 'Soul Buoy',\n",
    "                 'Brazil', 'Ethiopia', 'China', 'Japan',\n",
    "                 'Algeria', 'Slovenia', 'Uganda',\n",
    "                 'Central African Republic', 'Thailand', 'Indonesia',\n",
    "                 'Spain', 'Russia', 'Poland',\n",
    "                 'Ghana', 'Morocco', 'Tunisia',\n",
    "                 'South Africa', 'Burkina Faso', 'Lebanon',\n",
    "                 'Bangladesh', 'Australia', 'Finland',\n",
    "                 'Czech Republic', 'Uzbekistan', 'Somalia',\n",
    "                 'Romania', 'Serbia', 'Colombia',\n",
    "                 'Philippines', 'Peru', 'Tanzania',\n",
    "                 'Mali', 'Belarus', 'Switzerland',\n",
    "                 'Laos', 'Malawi', 'Angola',\n",
    "                 'Turkmenistan', 'Ecuador', 'Chad',\n",
    "                 'Croatia', 'Ireland', 'Kenya',\n",
    "                 'Indeterminate', 'Eswatini', 'Papua New Guinea',\n",
    "                 'Sweden', 'Netherlands', 'Armenia',\n",
    "                 'Cameroon', 'Norway', 'Slovakia',\n",
    "                 'Bulgaria', 'South Korea', 'Costa Rica',\n",
    "                 'Azerbaijan', 'Lithuania', 'Portugal',\n",
    "                 'Hungary', 'Yemen', 'Afghanistan',\n",
    "                 'South Sudan', 'Kazakhstan', 'Austria',\n",
    "                 'Belgium', 'Latvia', 'Myanmar',\n",
    "                 'Zimbabwe', 'Madagascar', 'New Zealand',\n",
    "                 'Zambia', 'Sri Lanka', 'Egypt', 'Iran', 'Estonia', 'Namibia', 'Vietnam', 'Cambodia', 'Lesotho', 'Rwanda', 'Chile', 'Greece', 'Venezuela', 'Paraguay', 'Libya', 'Oman', 'Uruguay', 'Belgium 7904', 'Greenland', 'Guatemala', 'Cuba', 'Botswana', 'Qatar', 'Jamaica', 'Western Sahara', 'Bosnia and Herzegovina', 'Bolivia', 'Honduras', 'North Korea', 'Israel', 'United Arab Emirates']\n",
    "len(paises_ingles)"
   ]
  },
  {
   "cell_type": "code",
   "execution_count": null,
   "id": "02417aef",
   "metadata": {},
   "outputs": [],
   "source": [
    "paises_idiomas = ['Deutschland', 'Danmark', 'Canada', 'México', 'Argentina',\n",
    "       'پاکستان', 'Монгол улс ᠮᠤᠩᠭᠤᠯ ᠤᠯᠤᠰ', 'France', 'موريتانيا',\n",
    "       'Niger', 'الأردن', 'India', 'Nigeria', 'Türkiye', 'السعودية',\n",
    "       'السودان', 'Italia', 'République démocratique du Congo',\n",
    "       'United Kingdom', 'سوريا', 'Україна', 'United States', 'العراق',\n",
    "       'Soul Buoy', 'Brasil', 'ኢትዮጵያ', '中国', '日本',\n",
    "       'Algérie ⵍⵣⵣⴰⵢⴻⵔ الجزائر', 'Slovenija', 'Uganda',\n",
    "       'Ködörösêse tî Bêafrîka / République centrafricaine', 'ประเทศไทย',\n",
    "       'Indonesia', 'España', 'Россия', 'Polska', 'Ghana',\n",
    "       'Maroc ⵍⵎⵖⵔⵉⴱ المغرب', 'تونس', 'South Africa', 'Burkina Faso',\n",
    "       'لبنان', 'বাংলাদেশ', 'Australia', 'Suomi / Finland', 'Česko',\n",
    "       'Oʻzbekiston', 'Soomaaliya الصومال', 'România', 'Србија',\n",
    "       'Colombia', 'Philippines', 'Perú', 'Tanzania', 'Mali', 'Беларусь',\n",
    "       'Schweiz/Suisse/Svizzera/Svizra', 'ປະເທດລາວ', 'Malawi', 'Angola',\n",
    "       'Türkmenistan', 'Ecuador', 'Tchad تشاد', 'Hrvatska',\n",
    "       'Éire / Ireland', 'Kenya', 'indeterminado', 'eSwatini',\n",
    "       'Papua Niugini', 'Sverige', 'Nederland', 'Հայաստան', 'Cameroun',\n",
    "       'Norge', 'Slovensko', 'България', '대한민국', 'Costa Rica',\n",
    "       'Azərbaycan', 'Lietuva', 'Portugal', 'Magyarország', 'اليمن',\n",
    "       'افغانستان', 'South Sudan جنوب السودان', 'Қазақстан', 'Österreich',\n",
    "       'België / Belgique / Belgien', 'Latvija', 'မြန်မာ', 'Zimbabwe',\n",
    "       'Madagasikara / Madagascar', 'New Zealand / Aotearoa', 'Zambia',\n",
    "       'ශ්\\u200dරී ලංකාව இலங்கை', 'مصر', 'ایران', 'Eesti', 'Namibia',\n",
    "       'Việt Nam', 'ព្រះរាជាណាចក្រ\\u200bកម្ពុជា', 'Lesotho', 'Rwanda',\n",
    "       'Chile', 'Ελλάς', 'Venezuela', 'Paraguay / Paraguái', 'ليبيا',\n",
    "       'عمان', 'Uruguay', 'Belgica 7904', 'Kalaallit Nunaat', 'Guatemala',\n",
    "       'Cuba', 'Botswana', 'قطر', 'Jamaica',\n",
    "       'República Árabe Saharaui Democrática الجمهورية العربية الصحراوية الديمقراطية',\n",
    "       'Bosna i Hercegovina / Босна и Херцеговина', 'Bolivia', 'Honduras',\n",
    "       '조선민주주의인민공화국', 'ישראל', 'الإمارات العربية المتحدة']\n",
    "len(paises_idiomas)"
   ]
  },
  {
   "cell_type": "code",
   "execution_count": null,
   "id": "757615c5",
   "metadata": {},
   "outputs": [],
   "source": [
    "mapeo_paises = {}\n",
    "for i in range(len(paises_idiomas)):\n",
    "    mapeo_paises[paises_idiomas[i]] = paises_ingles[i]\n",
    "mapeo_paises"
   ]
  },
  {
   "cell_type": "code",
   "execution_count": null,
   "id": "ffbdf1f1",
   "metadata": {},
   "outputs": [],
   "source": [
    "dfcopy[\"pais\"] = dfcopy[\"pais\"].map(mapeo_paises)"
   ]
  },
  {
   "cell_type": "code",
   "execution_count": null,
   "id": "dc4f91a1",
   "metadata": {},
   "outputs": [],
   "source": [
    "dfcopy[\"pais\"].unique()"
   ]
  },
  {
   "cell_type": "code",
   "execution_count": null,
   "id": "1cb14751",
   "metadata": {},
   "outputs": [],
   "source": [
    "dfcopy.to_csv(\"dfmeteoritos.csv\")"
   ]
  },
  {
   "cell_type": "code",
   "execution_count": null,
   "id": "5daccb87",
   "metadata": {},
   "outputs": [],
   "source": [
    "grafica_8 = dfcopy.pivot_table(index='pais', columns=('peso_colores'), aggfunc='size', fill_value=0)\n",
    "df_grafica_8 = pd.DataFrame(grafica_6)\n",
    "df_grafica_8"
   ]
  },
  {
   "cell_type": "code",
   "execution_count": null,
   "id": "5110f86f",
   "metadata": {},
   "outputs": [],
   "source": [
    "df_grafica_7 = df_grafica_6.sort_values(by=\"black\", ascending=False).iloc[2:]\n",
    "df_grafica_7 = df_grafica_7.head(10)\n",
    "df_grafica_7"
   ]
  },
  {
   "cell_type": "code",
   "execution_count": null,
   "id": "35c34673",
   "metadata": {},
   "outputs": [],
   "source": [
    "plt.figure(figsize=(12, 10))\n",
    "for peso_color in df_grafica_7.columns:\n",
    "    plt.plot(df_grafica_7.index, df_grafica_7[peso_color], color=peso_color, label=peso_color)\n",
    "plt.title('Conteo por años y tamaño')\n",
    "plt.xlabel('PAIS')\n",
    "plt.ylabel('CANTIDAD')\n",
    "plt.xticks(rotation=45)\n",
    "plt.legend(title='DIMENSION')\n",
    "plt.tight_layout()\n",
    "plt.show()"
   ]
  },
  {
   "cell_type": "code",
   "execution_count": null,
   "id": "be823f90",
   "metadata": {},
   "outputs": [],
   "source": [
    "dfcopy[\"pais\"].value_counts()"
   ]
  },
  {
   "cell_type": "code",
   "execution_count": null,
   "id": "c3a9b8d5",
   "metadata": {
    "scrolled": true
   },
   "outputs": [],
   "source": [
    "df_grafica_8['black'] = dfcopy[\"pais\"].value_counts()\n",
    "df_grafica_8"
   ]
  },
  {
   "cell_type": "code",
   "execution_count": null,
   "id": "3ef9753e",
   "metadata": {
    "scrolled": false
   },
   "outputs": [],
   "source": [
    "plt.figure(figsize=(12, 6))\n",
    "for peso_color in df_grafica_6.columns:\n",
    "    plt.plot(df_grafica_6.index, df_grafica_6[peso_color], color=peso_color, label=peso_color)\n",
    "plt.title('Conteo por años y tamaño')\n",
    "plt.xlabel('pais')\n",
    "plt.ylabel('Cantidad')\n",
    "plt.xticks([])\n",
    "plt.legend(title='tamaño')\n",
    "plt.tight_layout()\n",
    "plt.show()"
   ]
  },
  {
   "cell_type": "code",
   "execution_count": null,
   "id": "020818b8",
   "metadata": {},
   "outputs": [],
   "source": [
    "df_grafica_9_porcentaje = df_grafica_8.copy()\n",
    "df_grafica_9_porcentaje[\"green\"] = (df_grafica_8[\"green\"].div(df_grafica_8[\"black\"]) * 100).round(2)\n",
    "df_grafica_9_porcentaje[\"yellow\"] = (df_grafica_8[\"yellow\"].div(df_grafica_8[\"black\"]) * 100).round(2)\n",
    "df_grafica_9_porcentaje[\"orange\"] = (df_grafica_8[\"orange\"].div(df_grafica_8[\"black\"]) * 100).round(2)\n",
    "df_grafica_9_porcentaje[\"red\"] = (df_grafica_8[\"red\"].div(df_grafica_8[\"black\"]) * 100).round(2)\n",
    "\n",
    "df_grafica_9_porcentaje\n"
   ]
  },
  {
   "cell_type": "code",
   "execution_count": null,
   "id": "56154b39",
   "metadata": {},
   "outputs": [],
   "source": [
    "df_grafica_9_porcentaje_bis = df_grafica_9_porcentaje.copy()\n",
    "df_grafica_9_porcentaje_bis"
   ]
  },
  {
   "cell_type": "code",
   "execution_count": null,
   "id": "b8ef9f81",
   "metadata": {},
   "outputs": [],
   "source": [
    "df_grafica_9_porcentaje_bis.head(10).mean()"
   ]
  },
  {
   "cell_type": "code",
   "execution_count": null,
   "id": "60c3500b",
   "metadata": {},
   "outputs": [],
   "source": [
    "df_grafica_9_porcentaje_bis.head(10)"
   ]
  },
  {
   "cell_type": "code",
   "execution_count": null,
   "id": "db6896e7",
   "metadata": {},
   "outputs": [],
   "source": [
    "valores = [44.150, 5.826, 30.429, 19.591]\n",
    "colores = [\"green\", \"orange\", \"red\", \"yellow\"]\n",
    "etiquetas = [\"Green\", \"Orange\", \"Red\", \"Yellow\"]\n",
    "plt.figure(figsize=(8, 8))\n",
    "plt.pie(valores, labels=etiquetas, colors=colores, autopct='%1.1f%%', startangle=140, wedgeprops=dict(edgecolor='black'))\n",
    "plt.title('MEDIA TOP 10 PAISES')\n",
    "plt.axis('equal')\n",
    "plt.show()\n"
   ]
  },
  {
   "cell_type": "code",
   "execution_count": null,
   "id": "e7f72c19",
   "metadata": {},
   "outputs": [],
   "source": [
    "df_grafica_9_porcentaje_bis = df_grafica_9_porcentaje_bis.sort_values(by=\"black\", ascending=False).iloc[2:]\n",
    "df_grafica_9_porcentaje_bis"
   ]
  },
  {
   "cell_type": "code",
   "execution_count": null,
   "id": "401fc0fd",
   "metadata": {},
   "outputs": [],
   "source": [
    "df_grafica_10 = df_grafica_9_porcentaje_bis.copy()"
   ]
  },
  {
   "cell_type": "code",
   "execution_count": null,
   "id": "68bea836",
   "metadata": {
    "scrolled": true
   },
   "outputs": [],
   "source": [
    "df_pastel_paises = pd.DataFrame(df_grafica_10.mean())\n",
    "df_pastel_paises"
   ]
  },
  {
   "cell_type": "code",
   "execution_count": null,
   "id": "954fbe0e",
   "metadata": {},
   "outputs": [],
   "source": [
    "import matplotlib.pyplot as plt\n",
    "valores = [24.187480, 9.502114, 51.363984, 14.946016]\n",
    "colores = [\"green\", \"orange\", \"red\", \"yellow\"]\n",
    "etiquetas = [\"Green\", \"Orange\", \"Red\", \"Yellow\"]\n",
    "plt.figure(figsize=(8, 8))\n",
    "plt.pie(valores, labels=etiquetas, colors=colores, autopct='%1.1f%%', startangle=140, wedgeprops=dict(edgecolor='black'))\n",
    "plt.title('MEDIA TODOS LOS PAISES')\n",
    "plt.axis('equal')\n",
    "plt.show()\n"
   ]
  },
  {
   "cell_type": "code",
   "execution_count": null,
   "id": "aa17b4a9",
   "metadata": {},
   "outputs": [],
   "source": [
    "df_index_pais = dfcopy[\"pais\"].value_counts()\n",
    "df_index_pais = pd.DataFrame(df_index_pais)\n",
    "df_index_pais"
   ]
  },
  {
   "cell_type": "code",
   "execution_count": null,
   "id": "971eedd4",
   "metadata": {},
   "outputs": [],
   "source": []
  },
  {
   "cell_type": "code",
   "execution_count": null,
   "id": "ca053ab4",
   "metadata": {},
   "outputs": [],
   "source": [
    "dfcopy[\"pais\"] = paises"
   ]
  },
  {
   "cell_type": "code",
   "execution_count": null,
   "id": "c5cf1f6f",
   "metadata": {},
   "outputs": [],
   "source": [
    "url = \"https://es.wikipedia.org/wiki/Anexo:Pa%C3%ADses_por_superficie\""
   ]
  },
  {
   "cell_type": "code",
   "execution_count": null,
   "id": "82d44b0d",
   "metadata": {},
   "outputs": [],
   "source": []
  },
  {
   "cell_type": "code",
   "execution_count": null,
   "id": "993047ce",
   "metadata": {},
   "outputs": [],
   "source": [
    "r = requests.get(url)\n",
    "r.status_code"
   ]
  },
  {
   "cell_type": "code",
   "execution_count": null,
   "id": "0970cfa0",
   "metadata": {},
   "outputs": [],
   "source": [
    "html = r.content"
   ]
  },
  {
   "cell_type": "code",
   "execution_count": null,
   "id": "e33a5fd1",
   "metadata": {},
   "outputs": [],
   "source": [
    "soup = BeautifulSoup(html, 'html.parser')"
   ]
  },
  {
   "cell_type": "code",
   "execution_count": null,
   "id": "fb57a26e",
   "metadata": {},
   "outputs": [],
   "source": [
    "print(soup.prettify())"
   ]
  },
  {
   "cell_type": "code",
   "execution_count": null,
   "id": "db09de6b",
   "metadata": {},
   "outputs": [],
   "source": [
    "table_html = soup.find('table', attrs={'class': \"wikitable sortable col3der\"})\n",
    "table_html"
   ]
  },
  {
   "cell_type": "code",
   "execution_count": null,
   "id": "fec5e961",
   "metadata": {},
   "outputs": [],
   "source": [
    "df_pais_superficie = pd.read_html(table_html.prettify())[0]\n",
    "df_pais_superficie"
   ]
  },
  {
   "cell_type": "code",
   "execution_count": null,
   "id": "59ca0ffc",
   "metadata": {},
   "outputs": [],
   "source": []
  },
  {
   "cell_type": "code",
   "execution_count": null,
   "id": "2e0bb212",
   "metadata": {},
   "outputs": [],
   "source": []
  },
  {
   "cell_type": "code",
   "execution_count": null,
   "id": "ebd73f42",
   "metadata": {},
   "outputs": [],
   "source": [
    "url2 = \"https://es.wikipedia.org/wiki/Anexo:Pa%C3%ADses_y_territorios_dependientes_por_poblaci%C3%B3n\"\n",
    "r2 = requests.get(url2)\n",
    "r2.status_code\n",
    "html2 = r2.content\n",
    "soup2 = BeautifulSoup(html2, 'html.parser')\n",
    "print(soup2.prettify())\n",
    "table_html2 = soup2.find('table', attrs={'class': \"wikitable sortable\"})\n",
    "table_html2\n",
    "\n"
   ]
  },
  {
   "cell_type": "code",
   "execution_count": null,
   "id": "9d198a65",
   "metadata": {
    "scrolled": true
   },
   "outputs": [],
   "source": [
    "df_pais_poblacion = pd.read_html(table_html2.prettify())[0]\n",
    "df_pais_poblacion"
   ]
  },
  {
   "cell_type": "code",
   "execution_count": null,
   "id": "2bc3c260",
   "metadata": {
    "scrolled": true
   },
   "outputs": [],
   "source": [
    "nuevo_df = df_pais_poblacion[['País (o territorio dependiente)', 'Proyección  exponencial  de la  población  al  1/1/2024  [  7  ]  ​']]\n",
    "nuevo_df"
   ]
  },
  {
   "cell_type": "code",
   "execution_count": null,
   "id": "e45822bc",
   "metadata": {},
   "outputs": [],
   "source": [
    "nuevo_df = nuevo_df.rename(columns={\"País (o territorio dependiente)\": \"pais\"})\n",
    "nuevo_df = nuevo_df.rename(columns={\"Proyección  exponencial  de la  población  al  1/1/2024  [  7  ]  ​\": \"poblacion\"})\n",
    "nuevo_df"
   ]
  },
  {
   "cell_type": "code",
   "execution_count": null,
   "id": "a74419dd",
   "metadata": {
    "scrolled": true
   },
   "outputs": [],
   "source": [
    "nuevo_df[\"pais\"].unique()"
   ]
  },
  {
   "cell_type": "code",
   "execution_count": null,
   "id": "2bcb26e6",
   "metadata": {},
   "outputs": [],
   "source": [
    "nuevo_df[\"pais\"] = [elemento.split(' ')[0] for elemento in nuevo_df[\"pais\"]]\n",
    "nuevo_df[\"pais\"][0] = \"China\"\n",
    "nuevo_df[\"pais\"][2] = \"Estados Unidos\"\n",
    "nuevo_df[\"pais\"][11] = \"República Democrática del Congo\"\n",
    "nuevo_df[\"pais\"][10] = \"Japón\"\n",
    "nuevo_df[\"pais\"][45] = 'Arabia Saudita'\n",
    "nuevo_df[\"pais\"][48] = 'Costa de Marfil'\n",
    "nuevo_df[\"pais\"][57] = \"Taiwán\"\n",
    "nuevo_df[\"pais\"][60] = 'Sri Lanka'\n",
    "nuevo_df[\"pais\"][69] = \"Paises Bajos\"\n",
    "nuevo_df[\"pais\"][75] = \"Guinea Ecuatorial\"\n",
    "nuevo_df[\"pais\"][86] = \"República Dominicana\"\n",
    "nuevo_df[\"pais\"][96] = \"Emiratos Arabes\"\n",
    "nuevo_df[\"pais\"][100] = \"Sierra Leona\"\n",
    "nuevo_df[\"pais\"][103] = \"Hong Kong\"\n",
    "nuevo_df[\"pais\"][107] = \"El Salvador\"\n",
    "nuevo_df[\"pais\"][122] = \"Nueva Zelanda\"\n",
    "nuevo_df[\"pais\"][123] = \"Csota Rica\"\n",
    "nuevo_df[\"pais\"][135] = \"Puerto Rico\"\n",
    "nuevo_df[\"pais\"][146] = \"Guinea Ecuatorial\"\n",
    "nuevo_df[\"pais\"][155] = \"Trinidad y Tobago\"\n",
    "nuevo_df[\"pais\"][55] = \"Mali\"\n",
    "nuevo_df[\"pais\"][166] = \"Islas Salomon\"\n",
    "nuevo_df[\"pais\"][171] = \"República Árabe Saharaui Democrática\"\n",
    "nuevo_df[\"pais\"][183] = \"Guayana Francesa\"\n",
    "nuevo_df[\"pais\"][185] = \"Polinesia Francesa\"\n",
    "nuevo_df[\"pais\"][186] = \"Nueva Caledonia\"\n",
    "nuevo_df[\"pais\"][187] = \"Santo Tomé y Príncipe\"\n",
    "nuevo_df[\"pais\"][189] = \"Santa Lucía\"\n",
    "nuevo_df[\"pais\"][195] = \"San Vicente y las Granadinas\"\n",
    "nuevo_df[\"pais\"][200] = \"Antillas Neerlandesas\"\n",
    "nuevo_df[\"pais\"][201] = \"Isla de Man\"\n",
    "nuevo_df[\"pais\"][203] = \"Islas Vírgenes de los Estados Unidos\"\n",
    "nuevo_df[\"pais\"][218] = \"San Marino\"\n",
    "nuevo_df[\"pais\"][240] = \"Ciudad del Vaticano\"\n",
    "\n",
    "nuevo_df[\"pais\"].unique()\n"
   ]
  },
  {
   "cell_type": "code",
   "execution_count": null,
   "id": "14ba3ff6",
   "metadata": {},
   "outputs": [],
   "source": [
    "lista_paises_traducida = ['China', 'India', 'United States', 'Indonesia', 'Pakistan', 'Nigeria', 'Brazil', 'Bangladesh', 'Russia', 'Mexico', 'Japan', 'Democratic Republic of the Congo', 'Philippines', 'Ethiopia', 'Egypt', 'Vietnam', 'Iran', 'Turkey', 'Germany', 'Thailand', 'Kingdom', 'France', 'Tanzania', 'South Africa', 'Italy', 'Burma', 'Kenya', 'Colombia', 'Korea', 'Sudan', 'Spain', 'Algeria', 'Argentina', 'Uganda', 'Iraq', 'Canada', 'Poland', 'Morocco', 'Uzbekistan', 'Ukraine', 'Afghanistan', 'Yemen', 'Angola', 'Peru', 'Malaysia', 'Saudi Arabia', 'Mozambique', 'Ghana', 'Ivory Coast', 'Madagascar', 'Nepal', 'Venezuela', 'Cameroon', 'Australia', 'Mali', 'Mali', 'Taiwan', 'Syria', 'Burkina', 'Sri Lanka', 'Zambia', 'Malawi', 'Kazakhstan', 'Chile', 'Romania', 'Somalia', 'Chad', 'Senegal', 'Netherlands', 'Guatemala', 'Ecuador', 'Cambodia', 'Zimbabwe', 'Equatorial Guinea', 'Rwanda', 'Benin', 'Burundi', 'Bolivia', 'Tunisia', 'Belgium', 'Haiti', 'Jordan', 'Cuba', 'Republic', 'Dominican Republic', 'Sweden', 'Portugal', 'Greece', 'Tajikistan', 'Azerbaijan', 'Honduras', 'Israel', 'Papua', 'Hungary', 'United Arab Emirates', 'Austria', 'Belarus', 'Switzerland', 'Sierra Leone', 'Togo', 'Laos', 'Hong Kong', 'Libya', 'Turkmenistan', 'Kyrgyzstan', 'El Salvador', 'Nicaragua', 'Serbia', 'Bulgaria', 'Paraguay', 'Singapore', 'Denmark', 'Finland', 'Norway', 'Palestine', 'Slovakia', 'Liberia', 'Ireland', 'New Zealand', 'Costa Rica', 'Lebanon', 'Oman', 'Kuwait', 'Mauritania', 'Panama', 'Croatia', 'Eritrea', 'Georgia', 'Mongolia', 'Uruguay', 'Bosnia', 'Puerto Rico', 'Armenia', 'Qatar', 'Lithuania', 'Jamaica', 'Albania', 'Namibia', 'Gambia', 'Moldova', 'Botswana', 'Gabon', 'Slovenia', 'Lesotho', 'Latvia', 'Macedonia', 'Guinea-Bissau', 'Kosovo', 'Bahrain', 'Estonia', 'Trinidad and Tobago', 'Timor', 'Mauritius', 'Swaziland', 'Djibouti', 'Cyprus', 'Fiji', 'Reunion', 'Comoros', 'Guyana', 'Bhutan', 'Solomon Islands', 'Macao', 'Luxembourg', 'Suriname', 'Montenegro', 'Western Sahara', 'Cape Verde', 'Malta', 'Maldives', 'Belize', 'Brunei', 'Bahamas', 'Iceland', 'Guadeloupe', 'Martinique', 'Mayotte', 'Vanuatu', 'French Guiana', 'Barbados', 'French Polynesia', 'New Caledonia', 'Sao Tome and Principe', 'Samoa', 'Saint Lucia', 'Guam', 'Curacao', 'Grenada', 'Kiribati', 'Seychelles', 'Saint Vincent and the Grenadines', 'Aruba', 'Micronesia', 'Jersey', 'Tonga', 'Netherlands Antilles', 'Isle of Man', 'Andorra', 'United States Virgin Islands', 'Islands', 'Dominica', 'Guernsey', 'Bermuda', 'Greenland', 'San', 'Liechtenstein', 'Monaco', 'San Marino', 'Gibraltar', 'Aland', 'Caribbean', 'Palau', 'Anguilla', 'Nauru', 'Tuvalu', 'Wallis', 'Holy', 'Montserrat', 'Svalbard', 'Island', 'Niue', 'Tokelau', 'Vatican City', 'World', 'Country']\n",
    "nuevo_df[\"pais\"] = lista_paises_traducida"
   ]
  },
  {
   "cell_type": "code",
   "execution_count": null,
   "id": "dcc10275",
   "metadata": {},
   "outputs": [],
   "source": [
    "dfcopy[\"pais\"].unique()"
   ]
  },
  {
   "cell_type": "code",
   "execution_count": null,
   "id": "5d81795d",
   "metadata": {},
   "outputs": [],
   "source": [
    "population = {\n",
    "    'Germany': 83783942,\n",
    "    'Denmark': 5818553,\n",
    "    'Canada': 38233000,\n",
    "    'Mexico': 126190788,\n",
    "    'Argentina': 45605886,\n",
    "    'Pakistan': 225199937,\n",
    "    'Mongolia': 3278292,\n",
    "    'France': 67059887,\n",
    "    'Mauritania': 4649658,\n",
    "    'Niger': 23310715,\n",
    "    'Jordan': 10069794,\n",
    "    'India': 1393409038,\n",
    "    'Nigeria': 206139587,\n",
    "    'Turkey': 84495243,\n",
    "    'Saudi Arabia': 35041038,\n",
    "    'Sudan': 43849260,\n",
    "    'Italy': 60367482,\n",
    "    'Democratic Republic of the Congo': 92376887,\n",
    "    'United Kingdom': 68207116,\n",
    "    'Syria': 17500658,\n",
    "    'Ukraine': 43733759,\n",
    "    'United States': 331002651,\n",
    "    'Iraq': 40222493,\n",
    "    'Soul Buoy': None,\n",
    "    'Brazil': 212559417,\n",
    "    'Ethiopia': 114963588,\n",
    "    'China': 1439323776,\n",
    "    'Japan': 126476461,\n",
    "    'Algeria': 43851044,\n",
    "    'Slovenia': 2078938,\n",
    "    'Uganda': 45741007,\n",
    "    'Central African Republic': 4829767,\n",
    "    'Thailand': 69799978,\n",
    "    'Indonesia': 273523615,\n",
    "    'Spain': 46754778,\n",
    "    'Russia': 145934462,\n",
    "    'Poland': 37846611,\n",
    "    'Ghana': 31072940,\n",
    "    'Morocco': 36910560,\n",
    "    'Tunisia': 11818619,\n",
    "    'South Africa': 59308690,\n",
    "    'Burkina Faso': 20903273,\n",
    "    'Lebanon': 6825442,\n",
    "    'Bangladesh': 164689383,\n",
    "    'Australia': 25499884,\n",
    "    'Finland': 5540720,\n",
    "    'Czech Republic': 10708981,\n",
    "    'Uzbekistan': 33469203,\n",
    "    'Somalia': 15893222,\n",
    "    'Romania': 19237691,\n",
    "    'Serbia': 8737371,\n",
    "    'Colombia': 50882891,\n",
    "    'Philippines': 109581078,\n",
    "    'Peru': 32971846,\n",
    "    'Tanzania': 59734218,\n",
    "    'Mali': 20250833,\n",
    "    'Belarus': 9449323,\n",
    "    'Switzerland': 8654622,\n",
    "    'Laos': 7275560,\n",
    "    'Malawi': 19129952,\n",
    "    'Angola': 32866272,\n",
    "    'Turkmenistan': 6031187,\n",
    "    'Ecuador': 17643054,\n",
    "    'Chad': 16425859,\n",
    "    'Croatia': 4105267,\n",
    "    'Ireland': 4937786,\n",
    "    'Kenya': 53771296,\n",
    "    'Indeterminate': None,\n",
    "    'Eswatini': 1160164,\n",
    "    'Papua New Guinea': 8947024,\n",
    "    'Sweden': 10099265,\n",
    "    'Netherlands': 17134872,\n",
    "    'Armenia': 2963243,\n",
    "    'Cameroon': 26545863,\n",
    "    'Norway': 5421241,\n",
    "    'Slovakia': 5459642,\n",
    "    'Bulgaria': 6948445,\n",
    "    'South Korea': 51269185,\n",
    "    'Costa Rica': 5094118,\n",
    "    'Azerbaijan': 10139177,\n",
    "    'Lithuania': 2722289,\n",
    "    'Portugal': 10196709,\n",
    "    'Hungary': 9660351,\n",
    "    'Yemen': 29825968,\n",
    "    'Afghanistan': 38928346,\n",
    "    'South Sudan': 11193729,\n",
    "    'Kazakhstan': 18776707,\n",
    "    'Austria': 9006398,\n",
    "    'Belgium': 11589623,\n",
    "    'Latvia': 1886198,\n",
    "    'Myanmar': 54409800,\n",
    "    'Zimbabwe': 14862924,\n",
    "    'Madagascar': 27691019,\n",
    "    'New Zealand': 4822233,\n",
    "    'Zambia': 18383955,\n",
    "    'Sri Lanka': 21413249,\n",
    "    'Egypt': 102334404,\n",
    "    'Iran': 83992949,\n",
    "    'Estonia': 1326535,\n",
    "    'Namibia': 2540905,\n",
    "    'Vietnam': 97338579,\n",
    "    'Cambodia': 16718965,\n",
    "    'Lesotho': 2142249,\n",
    "    'Rwanda': 12952218,\n",
    "    'Chile': 19116201,\n",
    "    'Greece': 10423054,\n",
    "    'Venezuela': 28435940,\n",
    "    'Paraguay': 7132530,\n",
    "    'Libya': 6871292,\n",
    "    'Oman': 5106622,\n",
    "    'Uruguay': 3473727,\n",
    "    'Belgium 7904': None,\n",
    "    'Greenland': 56770,\n",
    "    'Guatemala': 17915568,\n",
    "    'Cuba': 11326616,\n",
    "    'Botswana': 2351627,\n",
    "    'Qatar': 2881060,\n",
    "    'Jamaica': 2961167,\n",
    "    'Western Sahara': 597339,\n",
    "    'Bosnia and Herzegovina': 3280819,\n",
    "    'Bolivia': 11673029,\n",
    "    'Honduras': 9904607,\n",
    "    'North Korea': 25778816,\n",
    "    'Israel': 8655535,\n",
    "    'United Arab Emirates': 9890402\n",
    "}\n"
   ]
  },
  {
   "cell_type": "code",
   "execution_count": null,
   "id": "b7a03f7e",
   "metadata": {},
   "outputs": [],
   "source": [
    "df_grafica_poblacion = df_grafica_8.copy()\n",
    "df_grafica_poblacion.sort_index()"
   ]
  },
  {
   "cell_type": "code",
   "execution_count": null,
   "id": "fb6491a5",
   "metadata": {},
   "outputs": [],
   "source": [
    "df_grafica_poblacion.reset_index(inplace=True)\n",
    "df_grafica_poblacion['population'] = df_grafica_poblacion['pais'].replace(population)\n",
    "df_grafica_poblacion\n",
    "\n"
   ]
  },
  {
   "cell_type": "code",
   "execution_count": null,
   "id": "15b35014",
   "metadata": {},
   "outputs": [],
   "source": [
    "df_grafica_poblacion.set_index('pais', inplace=True)\n"
   ]
  },
  {
   "cell_type": "code",
   "execution_count": null,
   "id": "bbc327e7",
   "metadata": {},
   "outputs": [],
   "source": [
    "df_grafica_poblacion.drop(columns=['index'], inplace=True)\n",
    "df_grafica_poblacion"
   ]
  },
  {
   "cell_type": "code",
   "execution_count": null,
   "id": "38395b7c",
   "metadata": {},
   "outputs": [],
   "source": [
    "extensiones_territoriales = {\n",
    "    'Denmark': 43094,\n",
    "    'Canada': 9984670,\n",
    "    'Mexico': 1964375,\n",
    "    'Argentina': 2780400,\n",
    "    'Pakistan': 881913,\n",
    "    'Mongolia': 1564110,\n",
    "    'France': 551695,\n",
    "    'Mauritania': 1030700,\n",
    "    'Niger': 1267000,\n",
    "    'Jordan': 89342,\n",
    "    'India': 3287263,\n",
    "    'Nigeria': 923768,\n",
    "    'Turkey': 783562,\n",
    "    'Saudi Arabia': 2149690,\n",
    "    'Sudan': 1861484,\n",
    "    'Italy': 301340,\n",
    "    'Democratic Republic of the Congo': 2345095,\n",
    "    'United Kingdom': 243610,\n",
    "    'Syria': 185180,\n",
    "    'Ukraine': 603500,\n",
    "    'United States': 9833517,\n",
    "    'Iraq': 437072,\n",
    "    'Soul Buoy': 0,  # No reconocido\n",
    "    'Brazil': 8515767,\n",
    "    'Ethiopia': 1104300,\n",
    "    'China': 9596961,\n",
    "    'Japan': 377975,\n",
    "    'Algeria': 2381741,\n",
    "    'Slovenia': 20273,\n",
    "    'Uganda': 241551,\n",
    "    'Central African Republic': 622984,\n",
    "    'Thailand': 513120,\n",
    "    'Indonesia': 1904569,\n",
    "    'Spain': 505992,\n",
    "    'Russia': 17098242,\n",
    "    'Poland': 312696,\n",
    "    'Ghana': 238533,\n",
    "    'Morocco': 446550,\n",
    "    'Tunisia': 163610,\n",
    "    'South Africa': 1221037,\n",
    "    'Burkina Faso': 274200,\n",
    "    'Lebanon': 10452,\n",
    "    'Bangladesh': 147570,\n",
    "    'Australia': 7692024,\n",
    "    'Finland': 338424,\n",
    "    'Czech Republic': 78867,\n",
    "    'Uzbekistan': 447400,\n",
    "    'Somalia': 637657,\n",
    "    'Romania': 238397,\n",
    "    'Serbia': 77474,\n",
    "    'Colombia': 1141748,\n",
    "    'Philippines': 300000,\n",
    "    'Peru': 1285216,\n",
    "    'Tanzania': 945087,\n",
    "    'Mali': 1240192,\n",
    "    'Belarus': 207600,\n",
    "    'Switzerland': 41284,\n",
    "    'Laos': 236800,\n",
    "    'Malawi': 118484,\n",
    "    'Angola': 1246700,\n",
    "    'Turkmenistan': 488100,\n",
    "    'Ecuador': 276841,\n",
    "    'Chad': 1284000,\n",
    "    'Croatia': 56542,\n",
    "    'Ireland': 70273,\n",
    "    'Kenya': 580367,\n",
    "    'Indeterminate': 0,  # No reconocido\n",
    "    'Eswatini': 17364,\n",
    "    'Papua New Guinea': 462840,\n",
    "    'Sweden': 450295,\n",
    "    'Netherlands': 41543,\n",
    "    'Armenia': 29743,\n",
    "    'Cameroon': 475442,\n",
    "    'Norway': 323802,\n",
    "    'Slovakia': 49035,\n",
    "    'Bulgaria': 110879,\n",
    "    'South Korea': 100210,\n",
    "    'Costa Rica': 51100,\n",
    "    'Azerbaijan': 86600,\n",
    "    'Lithuania': 65300,\n",
    "    'Portugal': 92090,\n",
    "    'Hungary': 93028,\n",
    "    'Yemen': 527968,\n",
    "    'Afghanistan': 652230,\n",
    "    'South Sudan': 619745,\n",
    "    'Kazakhstan': 2724900,\n",
    "    'Austria': 83871,\n",
    "    'Belgium': 30528,\n",
    "    'Latvia': 64589,\n",
    "    'Myanmar': 676578,\n",
    "    'Zimbabwe': 390757,\n",
    "    'Madagascar': 587041,\n",
    "    'New Zealand': 270467,\n",
    "    'Zambia': 752612,\n",
    "    'Sri Lanka': 65610,\n",
    "    'Egypt': 1002450,\n",
    "    'Iran': 1648195,\n",
    "    'Estonia': 45227,\n",
    "    'Namibia': 824292,\n",
    "    'Vietnam': 331210,\n",
    "    'Cambodia': 181035,\n",
    "    'Lesotho': 30355,\n",
    "    'Rwanda': 26338,\n",
    "    'Chile': 756102,\n",
    "    'Greece': 131957,\n",
    "    'Venezuela': 916445,\n",
    "    'Paraguay': 406752,\n",
    "    'Libya': 1759540,\n",
    "    'Oman': 309500,\n",
    "    'Uruguay': 176215,\n",
    "    'Belgium 7904': 0,  # No reconocido\n",
    "    'Greenland': 2166086,\n",
    "    'Guatemala': 108889,\n",
    "    'Cuba': 109884,\n",
    "    'Botswana': 581730,\n",
    "    'Qatar': 11586,\n",
    "    'Jamaica': 10991,\n",
    "    'Western Sahara': 266000,\n",
    "    'Bosnia and Herzegovina': 51197,\n",
    "    'Bolivia': 1098581,\n",
    "    'Honduras': 112492,\n",
    "    'North Korea': 120538,\n",
    "    'Israel': 20770,\n",
    "    'United Arab Emirates': 83600,\n",
    "    'Germany': 357386}\n",
    "print(len(extensiones_territoriales))"
   ]
  },
  {
   "cell_type": "code",
   "execution_count": null,
   "id": "0c641424",
   "metadata": {},
   "outputs": [],
   "source": [
    "df_grafica_poblacion.reset_index(inplace=True)\n",
    "df_grafica_poblacion['superficie'] = df_grafica_poblacion['pais'].replace(extensiones_territoriales)\n",
    "df_grafica_poblacion"
   ]
  },
  {
   "cell_type": "code",
   "execution_count": null,
   "id": "5bb9475a",
   "metadata": {},
   "outputs": [],
   "source": [
    "df_grafica_poblacion.set_index('pais', inplace=True)"
   ]
  },
  {
   "cell_type": "code",
   "execution_count": null,
   "id": "bbf3f64d",
   "metadata": {},
   "outputs": [],
   "source": [
    "df_grafica_poblacion\n",
    "df_grafica_poblacion.to_csv(\"df grafica poblacion.csv\")"
   ]
  },
  {
   "cell_type": "code",
   "execution_count": null,
   "id": "5ce4a248",
   "metadata": {
    "scrolled": false
   },
   "outputs": [],
   "source": [
    "df_grafica_poblacion.info()"
   ]
  },
  {
   "cell_type": "code",
   "execution_count": null,
   "id": "e4542012",
   "metadata": {},
   "outputs": [],
   "source": [
    "df_grafica_final = df_grafica_poblacion.copy()"
   ]
  },
  {
   "cell_type": "code",
   "execution_count": null,
   "id": "406bb095",
   "metadata": {},
   "outputs": [],
   "source": [
    "df_grafica_final.rename(columns={\"population\": \"poblacion\"})"
   ]
  },
  {
   "cell_type": "code",
   "execution_count": null,
   "id": "4f2193da",
   "metadata": {},
   "outputs": [],
   "source": [
    "df_grafica_final[\"superficie/meterito\"] = df_grafica_poblacion[\"superficie\"] / df_grafica_poblacion[\"black\"]\n",
    "df_grafica_final[\"poblacion/meterito\"] = df_grafica_poblacion[\"population\"] / df_grafica_poblacion[\"black\"]"
   ]
  },
  {
   "cell_type": "code",
   "execution_count": null,
   "id": "f5f8ed80",
   "metadata": {
    "scrolled": true
   },
   "outputs": [],
   "source": [
    "df_grafica_final.info()"
   ]
  },
  {
   "cell_type": "code",
   "execution_count": null,
   "id": "36f54729",
   "metadata": {},
   "outputs": [],
   "source": [
    "df_grafica_final"
   ]
  },
  {
   "cell_type": "code",
   "execution_count": null,
   "id": "375d460f",
   "metadata": {},
   "outputs": [],
   "source": [
    "dfcopy"
   ]
  },
  {
   "cell_type": "code",
   "execution_count": null,
   "id": "f994a69c",
   "metadata": {},
   "outputs": [],
   "source": [
    "dfcopy[\"clase_meteorito\"].value_counts()"
   ]
  },
  {
   "cell_type": "code",
   "execution_count": null,
   "id": "744fc5d1",
   "metadata": {},
   "outputs": [],
   "source": [
    "dfcopy.to_csv(\"dfcopy.csv\")"
   ]
  },
  {
   "cell_type": "code",
   "execution_count": null,
   "id": "c8174cbf",
   "metadata": {},
   "outputs": [],
   "source": []
  },
  {
   "cell_type": "code",
   "execution_count": null,
   "id": "d8c077e0",
   "metadata": {},
   "outputs": [],
   "source": []
  }
 ],
 "metadata": {
  "kernelspec": {
   "display_name": "Python 3 (ipykernel)",
   "language": "python",
   "name": "python3"
  },
  "language_info": {
   "codemirror_mode": {
    "name": "ipython",
    "version": 3
   },
   "file_extension": ".py",
   "mimetype": "text/x-python",
   "name": "python",
   "nbconvert_exporter": "python",
   "pygments_lexer": "ipython3",
   "version": "3.11.5"
  }
 },
 "nbformat": 4,
 "nbformat_minor": 5
}
